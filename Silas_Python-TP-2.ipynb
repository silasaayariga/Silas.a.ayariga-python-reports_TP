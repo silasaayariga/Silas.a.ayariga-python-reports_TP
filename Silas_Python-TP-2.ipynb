{
 "cells": [
  {
   "cell_type": "markdown",
   "id": "d68c1dee",
   "metadata": {
    "id": "d68c1dee"
   },
   "source": [
    "# Practical_2: String and files"
   ]
  },
  {
   "cell_type": "markdown",
   "id": "5b0c242d",
   "metadata": {
    "id": "bea983a3"
   },
   "source": [
    "---\n",
    "\n",
    "### Exercise 1:\n",
    "Create a string variable `text` and assign it the value `\"Python is amazing!\"`.\n",
    "\n",
    "```python\n",
    "# Exercise 1\n",
    "```\n",
    "\n",
    "---"
   ]
  },
  {
   "cell_type": "code",
   "execution_count": 2,
   "id": "7e7748db",
   "metadata": {},
   "outputs": [
    {
     "data": {
      "text/plain": [
       "'Python is amazing!'"
      ]
     },
     "execution_count": 2,
     "metadata": {},
     "output_type": "execute_result"
    }
   ],
   "source": [
    "text = \"Python is amazing!\"\n",
    "text"
   ]
  },
  {
   "cell_type": "markdown",
   "id": "34af4c26",
   "metadata": {
    "id": "bea983a3"
   },
   "source": [
    "### Exercise 2:\n",
    "Find the length of the string `\"Hello, World!\"` and store it in a variable `length`.\n",
    "\n",
    "```python\n",
    "# Exercise 2\n",
    "```\n",
    "\n",
    "---"
   ]
  },
  {
   "cell_type": "code",
   "execution_count": 4,
   "id": "8085ed13",
   "metadata": {},
   "outputs": [
    {
     "data": {
      "text/plain": [
       "13"
      ]
     },
     "execution_count": 4,
     "metadata": {},
     "output_type": "execute_result"
    }
   ],
   "source": [
    "length = len(\"Hello, World!\")\n",
    "length"
   ]
  },
  {
   "cell_type": "markdown",
   "id": "f776645f",
   "metadata": {
    "id": "bea983a3"
   },
   "source": [
    "### Exercise 3:\n",
    "Convert the string `\"python programming\"` to uppercase and store it in a variable `upper_text`.\n",
    "\n",
    "```python\n",
    "# Exercise 3\n",
    "```\n",
    "\n",
    "---"
   ]
  },
  {
   "cell_type": "code",
   "execution_count": 196,
   "id": "fd878a49",
   "metadata": {},
   "outputs": [
    {
     "name": "stdout",
     "output_type": "stream",
     "text": [
      "PYTHON PROGRAMMING\n"
     ]
    }
   ],
   "source": [
    "text = \"python programming\"\n",
    "upper_text = text.upper()\n",
    "print(upper_text)\n"
   ]
  },
  {
   "cell_type": "markdown",
   "id": "02f17f1a",
   "metadata": {
    "id": "bea983a3"
   },
   "source": [
    "### Exercise 4:\n",
    "Extract the first 5 characters from the string `\"Artificial Intelligence\"`.\n",
    "\n",
    "```python\n",
    "# Exercise 4\n",
    "```\n",
    "\n",
    "---"
   ]
  },
  {
   "cell_type": "code",
   "execution_count": 10,
   "id": "140a324f",
   "metadata": {},
   "outputs": [
    {
     "data": {
      "text/plain": [
       "'Arti'"
      ]
     },
     "execution_count": 10,
     "metadata": {},
     "output_type": "execute_result"
    }
   ],
   "source": [
    "ka = \"Artificial Intelligence\"\n",
    "ka[0:4]"
   ]
  },
  {
   "cell_type": "markdown",
   "id": "b5ca7311",
   "metadata": {
    "id": "bea983a3"
   },
   "source": [
    "### Exercise 5:\n",
    "Concatenate the strings `\"Hello\"` and `\"World\"` with a space in between.\n",
    "\n",
    "```python\n",
    "# Exercise 5\n",
    "```\n",
    "\n",
    "---"
   ]
  },
  {
   "cell_type": "code",
   "execution_count": 11,
   "id": "554fb24e",
   "metadata": {},
   "outputs": [
    {
     "data": {
      "text/plain": [
       "'Hello World'"
      ]
     },
     "execution_count": 11,
     "metadata": {},
     "output_type": "execute_result"
    }
   ],
   "source": [
    "\"Hello\"+ \" World\""
   ]
  },
  {
   "cell_type": "markdown",
   "id": "28c27513",
   "metadata": {
    "id": "bea983a3"
   },
   "source": [
    "### Exercise 6:\n",
    "Replace the word `\"dog\"` with `\"cat\"` in the string `\"The quick brown dog jumps over the lazy dog.\"`.\n",
    "\n",
    "```python\n",
    "# Exercise 6\n",
    "```\n",
    "\n",
    "---"
   ]
  },
  {
   "cell_type": "code",
   "execution_count": 13,
   "id": "aa9a471e",
   "metadata": {},
   "outputs": [
    {
     "data": {
      "text/plain": [
       "'The quick brown cat jumps over the lazy cat.'"
      ]
     },
     "execution_count": 13,
     "metadata": {},
     "output_type": "execute_result"
    }
   ],
   "source": [
    "c = \"The quick brown dog jumps over the lazy dog.\"\n",
    "c.replace(\"dog\",\"cat\")"
   ]
  },
  {
   "cell_type": "markdown",
   "id": "f3e965fa",
   "metadata": {
    "id": "bea983a3"
   },
   "source": [
    "### Exercise 7:\n",
    "Split the string `\"apple,banana,orange\"` by commas and store the result in a list `fruits_list`.\n",
    "\n",
    "```python\n",
    "# Exercise 7\n",
    "```\n",
    "\n",
    "---"
   ]
  },
  {
   "cell_type": "code",
   "execution_count": 195,
   "id": "860701fc",
   "metadata": {},
   "outputs": [
    {
     "name": "stdout",
     "output_type": "stream",
     "text": [
      "['apple', 'banana', 'orange']\n"
     ]
    }
   ],
   "source": [
    " text = \"apple,banana,orange\"\n",
    "fruits_list = text.split(\",\")\n",
    "print(fruits_list)\n",
    "\n",
    "\n"
   ]
  },
  {
   "cell_type": "markdown",
   "id": "23c4c4ce",
   "metadata": {
    "id": "bea983a3"
   },
   "source": [
    "### Exercise 8:\n",
    "Use string formatting to create the sentence `\"My name is Alice and I am 25 years old.\"`, where the name and age are variables.\n",
    "\n",
    "```python\n",
    "# Exercise 8\n",
    "```\n",
    "\n",
    "---"
   ]
  },
  {
   "cell_type": "code",
   "execution_count": 24,
   "id": "b6b7525e",
   "metadata": {},
   "outputs": [
    {
     "name": "stdout",
     "output_type": "stream",
     "text": [
      "My name is Alice 25 old\n"
     ]
    }
   ],
   "source": [
    "Name = \" Alice\"\n",
    "Age = \" 25\"\n",
    "print(\"My name is\"+Name+Age+\" old\")"
   ]
  },
  {
   "cell_type": "markdown",
   "id": "4e1fde85",
   "metadata": {
    "id": "bea983a3"
   },
   "source": [
    "### Exercise 9:\n",
    "Check if the string `\"python\"` is present in the sentence `\"I love python programming\"`.\n",
    "\n",
    "```python\n",
    "# Exercise 9\n",
    "```\n",
    "\n",
    "---"
   ]
  },
  {
   "cell_type": "code",
   "execution_count": 25,
   "id": "b9af7e88",
   "metadata": {},
   "outputs": [
    {
     "name": "stdout",
     "output_type": "stream",
     "text": [
      "True\n"
     ]
    }
   ],
   "source": [
    "saw = \"I love python programming\"\n",
    "print(\"python\" in saw)"
   ]
  },
  {
   "cell_type": "markdown",
   "id": "e3c4cfe7",
   "metadata": {
    "id": "bea983a3"
   },
   "source": [
    "### Exercise 10:\n",
    "Count the number of occurrences of the letter `\"e\"` in the string `\"Elephant is an elegant animal\"`.\n",
    "\n",
    "```python\n",
    "# Exercise 10\n",
    "```\n",
    "\n",
    "---"
   ]
  },
  {
   "cell_type": "code",
   "execution_count": 26,
   "id": "d11b56d0",
   "metadata": {},
   "outputs": [
    {
     "data": {
      "text/plain": [
       "3"
      ]
     },
     "execution_count": 26,
     "metadata": {},
     "output_type": "execute_result"
    }
   ],
   "source": [
    "gh= \"Elephant is an elegant animal\"\n",
    "\n",
    "gh.count(\"e\")"
   ]
  },
  {
   "cell_type": "markdown",
   "id": "4fd0b2ef",
   "metadata": {
    "id": "bea983a3"
   },
   "source": [
    "### Exercise 11:\n",
    "Remove any leading and trailing spaces from the string `\"   Data Science   \"`.\n",
    "\n",
    "```python\n",
    "# Exercise 11\n",
    "```\n",
    "\n",
    "---"
   ]
  },
  {
   "cell_type": "code",
   "execution_count": 193,
   "id": "91aaf38d",
   "metadata": {},
   "outputs": [
    {
     "name": "stdout",
     "output_type": "stream",
     "text": [
      "Data Science\n"
     ]
    }
   ],
   "source": [
    "nu = \"   Data Science   \"\n",
    "cleaned_text = nu.strip()\n",
    "print(cleaned_text)\n"
   ]
  },
  {
   "cell_type": "markdown",
   "id": "09bc1243",
   "metadata": {
    "id": "bea983a3"
   },
   "source": [
    "### Exercise 12:\n",
    "Convert the string `\"100\"` into an integer and store it in a variable `int_value`.\n",
    "\n",
    "```python\n",
    "# Exercise 12\n",
    "```\n",
    "\n",
    "---"
   ]
  },
  {
   "cell_type": "code",
   "execution_count": 48,
   "id": "b4180a24",
   "metadata": {},
   "outputs": [
    {
     "data": {
      "text/plain": [
       "100"
      ]
     },
     "execution_count": 48,
     "metadata": {},
     "output_type": "execute_result"
    }
   ],
   "source": [
    "int_value = int(\"100\")\n",
    "int_value"
   ]
  },
  {
   "cell_type": "markdown",
   "id": "6af94ccf",
   "metadata": {
    "id": "bea983a3"
   },
   "source": [
    "### Exercise 13:\n",
    "Extract the substring `\"pro\"` from the string `\"programming\"`.\n",
    "\n",
    "```python\n",
    "# Exercise 13\n",
    "```\n",
    "\n",
    "--"
   ]
  },
  {
   "cell_type": "code",
   "execution_count": 52,
   "id": "2e9a23a2",
   "metadata": {},
   "outputs": [
    {
     "data": {
      "text/plain": [
       "'pro'"
      ]
     },
     "execution_count": 52,
     "metadata": {},
     "output_type": "execute_result"
    }
   ],
   "source": [
    "asd = \"programming\"\n",
    "asd[0:3]"
   ]
  },
  {
   "cell_type": "markdown",
   "id": "64b58c14",
   "metadata": {
    "id": "bea983a3"
   },
   "source": [
    "-\n",
    "\n",
    "### Exercise 14:\n",
    "Check if the string `\"data\"` starts with `\"da\"` and ends with `\"ta\"`.\n",
    "\n",
    "```python\n",
    "# Exercise 14\n",
    "```\n",
    "\n",
    "---"
   ]
  },
  {
   "cell_type": "code",
   "execution_count": 56,
   "id": "94370a70",
   "metadata": {},
   "outputs": [
    {
     "name": "stdout",
     "output_type": "stream",
     "text": [
      "True\n"
     ]
    }
   ],
   "source": [
    "\n",
    "print(\"da\"in \"data\")"
   ]
  },
  {
   "cell_type": "markdown",
   "id": "40bd2187",
   "metadata": {
    "id": "bea983a3"
   },
   "source": [
    "### Exercise 15:\n",
    "Reverse the string `\"machine learning\"` and store the result in `reversed_text`.\n",
    "\n",
    "```python\n",
    "# Exercise 15\n",
    "```\n",
    "\n",
    "---"
   ]
  },
  {
   "cell_type": "code",
   "execution_count": 60,
   "id": "2c0d3394",
   "metadata": {},
   "outputs": [
    {
     "name": "stdout",
     "output_type": "stream",
     "text": [
      "Object `asd.reverse(()` not found.\n"
     ]
    }
   ],
   "source": [
    "asds = \"machine learning\"\n",
    "?asd."
   ]
  },
  {
   "cell_type": "markdown",
   "id": "a2869246",
   "metadata": {
    "id": "bea983a3"
   },
   "source": [
    "### Exercise 16:\n",
    "Convert the first letter of each word in the string `\"machine learning is fun\"` to uppercase.\n",
    "\n",
    "```python\n",
    "# Exercise 16\n",
    "```\n",
    "\n",
    "---"
   ]
  },
  {
   "cell_type": "code",
   "execution_count": 88,
   "id": "1c500447",
   "metadata": {},
   "outputs": [
    {
     "data": {
      "text/plain": [
       "'machine learning is fun'"
      ]
     },
     "execution_count": 88,
     "metadata": {},
     "output_type": "execute_result"
    }
   ],
   "source": [
    "fun = \"machine learning is fun\"\n",
    "fun.capitalize\n",
    "fun"
   ]
  },
  {
   "cell_type": "markdown",
   "id": "14b43064",
   "metadata": {
    "id": "bea983a3"
   },
   "source": [
    "### Exercise 17:\n",
    "Create a multiline string representing a poem and store it in a variable `poem`.\n",
    "\n",
    "```python\n",
    "# Exercise 17\n",
    "```\n",
    "\n",
    "---\n",
    "\n",
    "### Exercise 18:\n",
    "Write a string to a file named `\"output.txt\"`.\n",
    "\n",
    "```python\n",
    "# Exercise 18\n",
    "```\n",
    "\n",
    "---"
   ]
  },
  {
   "cell_type": "code",
   "execution_count": 101,
   "id": "e47383d3",
   "metadata": {},
   "outputs": [
    {
     "data": {
      "text/plain": [
       "16"
      ]
     },
     "execution_count": 101,
     "metadata": {},
     "output_type": "execute_result"
    }
   ],
   "source": [
    "file = open(\"output.txt\",\"w\")\n",
    "file.write(\"My name is Silas\")"
   ]
  },
  {
   "cell_type": "markdown",
   "id": "039bc67e",
   "metadata": {
    "id": "bea983a3"
   },
   "source": [
    "### Exercise 19:\n",
    "Read the contents of a file named `\"data.txt\"` and print it line by line.\n",
    "\n",
    "```python\n",
    "# Exercise 19\n",
    "```\n",
    "\n",
    "---"
   ]
  },
  {
   "cell_type": "code",
   "execution_count": 112,
   "id": "9ad25c69",
   "metadata": {},
   "outputs": [],
   "source": [
    "file=open (\"data.txt\",\"a\")\n",
    "lines = [\"uhlxsc kjcxsnv jhcx vjkcx\\n\",\"The name of Jesus\\n\",\"The lord desrves all my glory\\n\"]\n",
    "file.writelines(lines)\n",
    "\n"
   ]
  },
  {
   "cell_type": "code",
   "execution_count": 117,
   "id": "6d0da910",
   "metadata": {},
   "outputs": [
    {
     "name": "stdout",
     "output_type": "stream",
     "text": [
      "This is an append line\n",
      "This is an append line\n",
      "uhlxsc kjcxsnv jhcx vjkcx\n",
      "The name of Jesus\n",
      "The lord desrves all my glory\n",
      "uhlxsc kjcxsnv jhcx vjkcx\n",
      "The name of Jesus\n",
      "The lord desrves all my glory\n",
      "\n"
     ]
    }
   ],
   "source": [
    "with open(\"data.txt\",\"r\") as file:\n",
    "    print(file.read())\n",
    "    "
   ]
  },
  {
   "cell_type": "code",
   "execution_count": 122,
   "id": "68fa5220",
   "metadata": {},
   "outputs": [],
   "source": [
    "with open(\"silas.txt\",\"w\") as fill:\n",
    "    lines = [\"Mercy is going to school today\\n\",\"I am so happy that God has answered our prayers\\n\",\"May God help her through her studies\\n\"]\n",
    "    fill.writelines(lines)\n",
    "    fill.close()\n",
    "    "
   ]
  },
  {
   "cell_type": "code",
   "execution_count": 125,
   "id": "9414092f",
   "metadata": {},
   "outputs": [
    {
     "name": "stdout",
     "output_type": "stream",
     "text": [
      "Mercy is going to school today\n",
      "I am so happy that God has answered our prayers\n",
      "May God help her through her studies\n",
      "\n"
     ]
    }
   ],
   "source": [
    "with open(\"silas.txt\",\"r\") as fill1:\n",
    "    print(fill1.read())\n",
    "    fill1.close()\n",
    "   "
   ]
  },
  {
   "cell_type": "markdown",
   "id": "a26247b3",
   "metadata": {
    "id": "bea983a3"
   },
   "source": [
    "### Exercise 20:\n",
    "Check if a file `\"example.txt\"` exists before opening it.\n",
    "\n",
    "```python\n",
    "# Exercise 20\n",
    "```\n",
    "\n",
    "---"
   ]
  },
  {
   "cell_type": "code",
   "execution_count": 126,
   "id": "3fe2df0c",
   "metadata": {},
   "outputs": [
    {
     "name": "stdout",
     "output_type": "stream",
     "text": [
      "The file 'example.txt' does not exist.\n"
     ]
    }
   ],
   "source": [
    "import os\n",
    "\n",
    "file_name = \"example.txt\"\n",
    "\n",
    "if os.path.exists(file_name):\n",
    "    print(f\"The file '{file_name}' exists. Opening it...\")\n",
    "    with open(file_name, 'r') as f:\n",
    "        content = f.read()\n",
    "        print(content)\n",
    "else:\n",
    "    print(f\"The file '{file_name}' does not exist.\")"
   ]
  },
  {
   "cell_type": "markdown",
   "id": "8af3f401",
   "metadata": {
    "id": "bea983a3"
   },
   "source": [
    "example.txt."
   ]
  },
  {
   "cell_type": "markdown",
   "id": "4a06fb61",
   "metadata": {
    "id": "bea983a3"
   },
   "source": [
    "### Exercise 21:\n",
    "Append a new line `\"This is a new line\"` to an existing file `\"notes.txt\"`.\n",
    "\n",
    "```python\n",
    "# Exercise 21\n",
    "```\n",
    "\n",
    "---"
   ]
  },
  {
   "cell_type": "code",
   "execution_count": 135,
   "id": "d4008a9a",
   "metadata": {},
   "outputs": [
    {
     "ename": "UnsupportedOperation",
     "evalue": "not readable",
     "output_type": "error",
     "traceback": [
      "\u001b[0;31m---------------------------------------------------------------------------\u001b[0m",
      "\u001b[0;31mUnsupportedOperation\u001b[0m                      Traceback (most recent call last)",
      "\u001b[0;32m/tmp/ipykernel_40056/3700008569.py\u001b[0m in \u001b[0;36m<module>\u001b[0;34m\u001b[0m\n\u001b[1;32m      2\u001b[0m     \u001b[0mlines\u001b[0m\u001b[0;34m=\u001b[0m \u001b[0;34m[\u001b[0m\u001b[0;34m\"lsdjkds\\n\"\u001b[0m\u001b[0;34m,\u001b[0m\u001b[0;34m\"hjerbhjer hsfwe\\n\"\u001b[0m\u001b[0;34m]\u001b[0m\u001b[0;34m\u001b[0m\u001b[0;34m\u001b[0m\u001b[0m\n\u001b[1;32m      3\u001b[0m     \u001b[0mkin\u001b[0m\u001b[0;34m.\u001b[0m\u001b[0mwritelines\u001b[0m\u001b[0;34m(\u001b[0m\u001b[0mlines\u001b[0m\u001b[0;34m)\u001b[0m\u001b[0;34m\u001b[0m\u001b[0;34m\u001b[0m\u001b[0m\n\u001b[0;32m----> 4\u001b[0;31m     \u001b[0mprint\u001b[0m\u001b[0;34m(\u001b[0m\u001b[0mkin\u001b[0m\u001b[0;34m.\u001b[0m\u001b[0mread\u001b[0m\u001b[0;34m(\u001b[0m\u001b[0;34m)\u001b[0m\u001b[0;34m)\u001b[0m\u001b[0;34m\u001b[0m\u001b[0;34m\u001b[0m\u001b[0m\n\u001b[0m",
      "\u001b[0;31mUnsupportedOperation\u001b[0m: not readable"
     ]
    }
   ],
   "source": [
    "with open(\"notes.txt\",\"w\") as kin:\n",
    "    lines= [\"lsdjkds\\n\",\"hjerbhjer hsfwe\\n\"]\n",
    "    kin.writelines(lines)\n",
    "    print(kin.read())"
   ]
  },
  {
   "cell_type": "markdown",
   "id": "80550fb1",
   "metadata": {
    "id": "bea983a3"
   },
   "source": [
    "### Exercise 22:\n",
    "Read the contents of a file `\"log.txt\"` and store each line in a list `log_lines`.\n",
    "\n",
    "```python\n",
    "# Exercise 22\n",
    "```\n",
    "\n",
    "---"
   ]
  },
  {
   "cell_type": "code",
   "execution_count": null,
   "id": "9c5a7a3e",
   "metadata": {},
   "outputs": [],
   "source": [
    "with open(\"log.txt\",\"w\") as auel:\n",
    "    lines= [\"loglines\":'hjfdjah',\"lord\":]\n",
    "    "
   ]
  },
  {
   "cell_type": "markdown",
   "id": "e38ca0f0",
   "metadata": {
    "id": "bea983a3"
   },
   "source": [
    "### Exercise 23:\n",
    "Create a new file `\"report.txt\"` and write the string `\"Data analysis report\"` to it.\n",
    "\n",
    "```python\n",
    "# Exercise 23\n",
    "```\n",
    "\n",
    "---"
   ]
  },
  {
   "cell_type": "code",
   "execution_count": 142,
   "id": "2522ff52",
   "metadata": {},
   "outputs": [],
   "source": [
    " with open(\"report.txt\",\"w\")as silas:\n",
    "        silas.write(\"Data analysis report\")\n",
    "    \n",
    "        silas.close()\n",
    "        "
   ]
  },
  {
   "cell_type": "code",
   "execution_count": 148,
   "id": "7e30ae11",
   "metadata": {},
   "outputs": [
    {
     "name": "stdout",
     "output_type": "stream",
     "text": [
      "<built-in method read of _io.TextIOWrapper object at 0x7f04875692f0>\n"
     ]
    }
   ],
   "source": [
    " with open(\"report.txt\",\"r\") as silas:\n",
    "        print(silas.read)"
   ]
  },
  {
   "cell_type": "markdown",
   "id": "dc23f94d",
   "metadata": {
    "id": "bea983a3"
   },
   "source": [
    "### Exercise 24:\n",
    "Replace the word `\"error\"` with `\"issue\"` in a file `\"log.txt\"`.\n",
    "\n",
    "```python\n",
    "# Exercise 24\n",
    "```\n",
    "\n",
    "---"
   ]
  },
  {
   "cell_type": "code",
   "execution_count": 151,
   "id": "5ae048ef",
   "metadata": {},
   "outputs": [
    {
     "name": "stdout",
     "output_type": "stream",
     "text": [
      "61\n"
     ]
    }
   ],
   "source": [
    "\n",
    "text = \"This is an error message.\\nAnother error occurred.\\nEnd of log.\"\n",
    "\n",
    "text = text.replace(\"error\", \"issue\")\n",
    "\n",
    "with open(\"log.txt\", \"w\") as file:\n",
    "    print(file.write(text))\n"
   ]
  },
  {
   "cell_type": "markdown",
   "id": "356cdc1a",
   "metadata": {
    "id": "bea983a3"
   },
   "source": [
    "### Exercise 25:\n",
    "Count the number of words in a text file `\"document.txt\"`.\n",
    "\n",
    "```python\n",
    "# Exercise 25\n",
    "```\n",
    "\n",
    "---\n",
    "len(\"document.txt\")"
   ]
  },
  {
   "cell_type": "code",
   "execution_count": 152,
   "id": "7b29cbcf",
   "metadata": {},
   "outputs": [
    {
     "data": {
      "text/plain": [
       "12"
      ]
     },
     "execution_count": 152,
     "metadata": {},
     "output_type": "execute_result"
    }
   ],
   "source": [
    "len(\"document.txt\")"
   ]
  },
  {
   "cell_type": "markdown",
   "id": "8610a19b",
   "metadata": {
    "id": "bea983a3"
   },
   "source": [
    "### Exercise 26:\n",
    "Write a Python script that reads a file `\"essay.txt\"` and prints the total number of lines, words, and characters.\n",
    "\n",
    "```python\n",
    "# Exercise 26\n",
    "```\n",
    "\n",
    "---"
   ]
  },
  {
   "cell_type": "code",
   "execution_count": 154,
   "id": "c0f79c38",
   "metadata": {},
   "outputs": [
    {
     "name": "stdout",
     "output_type": "stream",
     "text": [
      "Lines: 0\n",
      "Words: 0\n",
      "Characters: 0\n"
     ]
    }
   ],
   "source": [
    "file = open(\"essay.txt\", \"w\")\n",
    "    \n",
    "\n",
    "with open(\"essay.txt\", \"r\") as file:\n",
    "    text = file.read()\n",
    "\n",
    "lines = text.splitlines()\n",
    "words = text.split()\n",
    "characters = len(text)\n",
    "\n",
    "print(\"Lines:\", len(lines))\n",
    "print(\"Words:\", len(words))\n",
    "print(\"Characters:\", characters)\n"
   ]
  },
  {
   "cell_type": "markdown",
   "id": "61344a2c",
   "metadata": {
    "id": "bea983a3"
   },
   "source": [
    "### Exercise 27:\n",
    "Copy the contents of one file `\"source.txt\"` to another file `\"destination.txt\"`.\n",
    "\n",
    "```python\n",
    "# Exercise 27\n",
    "```\n",
    "\n",
    "---"
   ]
  },
  {
   "cell_type": "code",
   "execution_count": 158,
   "id": "df2fe4c0",
   "metadata": {},
   "outputs": [],
   "source": [
    "file1 = open(\"destination.txt\",\"w\")\n",
    "file1.close()\n",
    "file2 = open(\"source.txt\",\"w\")\n",
    "file2.close()\n",
    "with open(\"source.txt\", \"r\") as src, open(\"destination.txt\", \"w\") as dest:\n",
    "    dest.write(src.read())\n"
   ]
  },
  {
   "cell_type": "markdown",
   "id": "280568bd",
   "metadata": {
    "id": "bea983a3"
   },
   "source": [
    "### Exercise 28:\n",
    "Write a Python function that takes a filename as input and returns the number of lines in the file.\n",
    "\n",
    "```python\n",
    "# Exercise 28\n",
    "```\n",
    "\n",
    "---"
   ]
  },
  {
   "cell_type": "code",
   "execution_count": 160,
   "id": "2ba14b26",
   "metadata": {},
   "outputs": [],
   "source": [
    "def count_lines(filename):\n",
    "    with open(filename, \"r\") as file:\n",
    "        return len(file.readlines())\n"
   ]
  },
  {
   "cell_type": "markdown",
   "id": "dd9040be",
   "metadata": {
    "id": "bea983a3"
   },
   "source": [
    "### Exercise 29:\n",
    "Extract all the words from a text file `\"article.txt\"` that contain more than 5 characters.\n",
    "\n",
    "```python\n",
    "# Exercise 29\n",
    "```\n",
    "\n",
    "---"
   ]
  },
  {
   "cell_type": "code",
   "execution_count": 162,
   "id": "37dc88cc",
   "metadata": {},
   "outputs": [],
   "source": [
    "text = \"Data is power. Analysis reveals insights and opportunities.\"\n",
    "with open(\"article.txt\", \"w\") as file:\n",
    "    file.write(text)\n",
    "file.close()"
   ]
  },
  {
   "cell_type": "code",
   "execution_count": 163,
   "id": "bfe62383",
   "metadata": {},
   "outputs": [
    {
     "name": "stdout",
     "output_type": "stream",
     "text": [
      "['power.', 'Analysis', 'reveals', 'insights', 'opportunities.']\n"
     ]
    }
   ],
   "source": [
    "with open(\"article.txt\", \"r\") as file:\n",
    "    words = file.read().split()\n",
    "\n",
    "long_words = [word for word in words if len(word) > 5]\n",
    "print(long_words)\n"
   ]
  },
  {
   "cell_type": "markdown",
   "id": "2e1264af",
   "metadata": {
    "id": "bea983a3"
   },
   "source": [
    "### Exercise 30:\n",
    "Convert the contents of a file `\"notes.txt\"` to uppercase and save the result in another file `\"uppercase_notes.txt\"`.\n",
    "\n",
    "```python\n",
    "# Exercise 30\n",
    "```\n",
    "\n",
    "---"
   ]
  },
  {
   "cell_type": "code",
   "execution_count": 169,
   "id": "72be2a23",
   "metadata": {},
   "outputs": [
    {
     "name": "stdout",
     "output_type": "stream",
     "text": [
      "PYTHON IS FUN. IT HELPS SOLVE PROBLEMS EFFICIENTLY.\n"
     ]
    }
   ],
   "source": [
    "text = \"Python is fun. It helps solve problems efficiently.\"\n",
    "\n",
    "with open(\"notes.txt\", \"w\") as file:\n",
    "    file.write(text)\n",
    "\n",
    "with open(\"notes.txt\", \"r\") as src:\n",
    "    content = src.read()\n",
    "\n",
    "uppercase_content = content.upper()\n",
    "\n",
    "with open(\"uppercase_notes.txt\", \"w\") as dest:\n",
    "    dest.write(uppercase_content)\n",
    "\n",
    "print(uppercase_content)\n",
    "\n"
   ]
  },
  {
   "cell_type": "markdown",
   "id": "b3350b5d",
   "metadata": {
    "id": "bea983a3"
   },
   "source": [
    "### Exercise 31:\n",
    "Write a Python script that reads a file and removes all empty lines.\n",
    "\n",
    "```python\n",
    "# Exercise 31\n",
    "```\n",
    "\n",
    "---"
   ]
  },
  {
   "cell_type": "code",
   "execution_count": 173,
   "id": "1cadc43e",
   "metadata": {},
   "outputs": [
    {
     "name": "stdout",
     "output_type": "stream",
     "text": [
      "['This is line one.\\n', 'This is line three.\\n', 'This is line five.']\n"
     ]
    }
   ],
   "source": [
    "text = \"\"\"This is line one.\n",
    "\n",
    "This is line three.\n",
    "\n",
    "This is line five.\"\"\"\n",
    "\n",
    "with open(\"input.txt\", \"w\") as file:\n",
    "    file.write(text)\n",
    "\n",
    "with open(\"input.txt\", \"r\") as file:\n",
    "    lines = file.readlines()\n",
    "\n",
    "non_empty_lines = [line for line in lines if line.strip()]\n",
    "\n",
    "with open(\"output.txt\", \"w\") as file:\n",
    "    file.writelines(non_empty_lines)\n",
    "print(non_empty_lines)"
   ]
  },
  {
   "cell_type": "markdown",
   "id": "992a51c4",
   "metadata": {
    "id": "bea983a3"
   },
   "source": [
    "### Exercise 32:\n",
    "Open a file `\"config.txt\"` in both read and write mode.\n",
    "\n",
    "```python\n",
    "# Exercise 32\n",
    "```\n",
    "\n",
    "---"
   ]
  },
  {
   "cell_type": "code",
   "execution_count": 174,
   "id": "bfd814c8",
   "metadata": {},
   "outputs": [],
   "source": [
    "with open(\"config.txt\", \"w\") as file:\n",
    "    file.write(\"setting1=value1\\nsetting2=value2\\n\")\n",
    "\n",
    "file = open(\"config.txt\", \"r+\")\n"
   ]
  },
  {
   "cell_type": "markdown",
   "id": "dac1cf53",
   "metadata": {
    "id": "bea983a3"
   },
   "source": [
    "### Exercise 33:\n",
    "Write a Python function that reads a file and prints the longest line in the file.\n",
    "\n",
    "```python\n",
    "# Exercise 33\n",
    "```\n",
    "\n",
    "---"
   ]
  },
  {
   "cell_type": "code",
   "execution_count": 175,
   "id": "dec6a3e3",
   "metadata": {},
   "outputs": [
    {
     "name": "stdout",
     "output_type": "stream",
     "text": [
      "Another really long line that might be the longest in this file\n"
     ]
    }
   ],
   "source": [
    "text = \"\"\"Short line\n",
    "This is a much longer line than the previous one\n",
    "Tiny\n",
    "Another really long line that might be the longest in this file\"\"\"\n",
    "\n",
    "with open(\"sample.txt\", \"w\") as file:\n",
    "    file.write(text)\n",
    "\n",
    "def print_longest_line(filename):\n",
    "    with open(filename, \"r\") as file:\n",
    "        lines = file.readlines()\n",
    "    longest_line = max(lines, key=len)\n",
    "    print(longest_line.strip())\n",
    "\n",
    "print_longest_line(\"sample.txt\")\n"
   ]
  },
  {
   "cell_type": "markdown",
   "id": "f933fb6a",
   "metadata": {
    "id": "bea983a3"
   },
   "source": [
    "### Exercise 34:\n",
    "Write a Python script to count the frequency of each letter in a text file `\"message.txt\"`.\n",
    "\n",
    "```python\n",
    "# Exercise 34\n",
    "```\n",
    "\n",
    "---"
   ]
  },
  {
   "cell_type": "code",
   "execution_count": 176,
   "id": "3143c498",
   "metadata": {},
   "outputs": [
    {
     "name": "stdout",
     "output_type": "stream",
     "text": [
      "Counter({'o': 4, 'l': 3, 'r': 3, 'n': 3, 'h': 2, 'p': 2, 'g': 2, 'm': 2, 'i': 2, 'e': 1, 'w': 1, 'd': 1, 'y': 1, 't': 1, 'a': 1, 's': 1, 'f': 1, 'u': 1})\n"
     ]
    }
   ],
   "source": [
    "text = \"Hello world! Python programming is fun.\"\n",
    "\n",
    "with open(\"message.txt\", \"w\") as file:\n",
    "    file.write(text)\n",
    "\n",
    "from collections import Counter\n",
    "import string\n",
    "\n",
    "with open(\"message.txt\", \"r\") as file:\n",
    "    content = file.read().lower()\n",
    "\n",
    "letters_only = [char for char in content if char in string.ascii_lowercase]\n",
    "frequency = Counter(letters_only)\n",
    "\n",
    "print(frequency)\n"
   ]
  },
  {
   "cell_type": "markdown",
   "id": "c3fdeb83",
   "metadata": {
    "id": "bea983a3"
   },
   "source": [
    "### Exercise 35:\n",
    "Write a Python script that reads a file and prints the total number of characters, excluding spaces.\n",
    "\n",
    "```python\n",
    "# Exercise 35\n",
    "```\n",
    "\n",
    "---"
   ]
  },
  {
   "cell_type": "code",
   "execution_count": 177,
   "id": "a4e092bf",
   "metadata": {},
   "outputs": [
    {
     "name": "stdout",
     "output_type": "stream",
     "text": [
      "34\n"
     ]
    }
   ],
   "source": [
    "text = \"Python programming is fun and powerful.\"\n",
    "\n",
    "with open(\"textfile.txt\", \"w\") as file:\n",
    "    file.write(text)\n",
    "\n",
    "with open(\"textfile.txt\", \"r\") as file:\n",
    "    content = file.read()\n",
    "\n",
    "char_count = len(content.replace(\" \", \"\"))\n",
    "print(char_count)\n"
   ]
  },
  {
   "cell_type": "markdown",
   "id": "1325977d",
   "metadata": {
    "id": "bea983a3"
   },
   "source": [
    "### Exercise 36:\n",
    "Create a Python script to check whether a file is empty or not.\n",
    "\n",
    "```python\n",
    "# Exercise 36\n",
    "```\n",
    "\n",
    "---"
   ]
  },
  {
   "cell_type": "code",
   "execution_count": 179,
   "id": "113c7e71",
   "metadata": {},
   "outputs": [
    {
     "name": "stdout",
     "output_type": "stream",
     "text": [
      "The file is not empty.\n"
     ]
    }
   ],
   "source": [
    "with open(\"checkfile.txt\", \"w\") as file:\n",
    "    file.write(\"my name ios \") \n",
    "\n",
    "import os\n",
    "\n",
    "if os.path.exists(\"checkfile.txt\") and os.path.getsize(\"checkfile.txt\") == 0:\n",
    "    print(\"The file is empty.\")\n",
    "else:\n",
    "    print(\"The file is not empty.\")\n"
   ]
  },
  {
   "cell_type": "markdown",
   "id": "0bf3f58e",
   "metadata": {
    "id": "bea983a3"
   },
   "source": [
    "### Exercise 37:\n",
    "Write a Python function that reads a file and removes all punctuation marks from the text.\n",
    "\n",
    "```python\n",
    "# Exercise 37\n",
    "```\n",
    "\n",
    "---"
   ]
  },
  {
   "cell_type": "code",
   "execution_count": 180,
   "id": "fe02784b",
   "metadata": {},
   "outputs": [
    {
     "name": "stdout",
     "output_type": "stream",
     "text": [
      "Hello world Python programming is fun lets code\n"
     ]
    }
   ],
   "source": [
    "text = \"Hello, world! Python programming is fun; let's code.\"\n",
    "\n",
    "with open(\"textfile.txt\", \"w\") as file:\n",
    "    file.write(text)\n",
    "\n",
    "import string\n",
    "\n",
    "def remove_punctuation(filename):\n",
    "    with open(filename, \"r\") as file:\n",
    "        content = file.read()\n",
    "    cleaned = content.translate(str.maketrans('', '', string.punctuation))\n",
    "    print(cleaned)\n",
    "\n",
    "remove_punctuation(\"textfile.txt\")\n"
   ]
  },
  {
   "cell_type": "markdown",
   "id": "adc1c84f",
   "metadata": {
    "id": "bea983a3"
   },
   "source": [
    "### Exercise 38:\n",
    "Create a Python function that writes a list of strings to a file, each string on a new line.\n",
    "\n",
    "```python\n",
    "# Exercise 38\n",
    "```\n",
    "\n",
    "---"
   ]
  },
  {
   "cell_type": "code",
   "execution_count": 181,
   "id": "5059f7a5",
   "metadata": {},
   "outputs": [],
   "source": [
    "lines = [\"First line\", \"Second line\", \"Third line\"]\n",
    "\n",
    "def write_list_to_file(filename, string_list):\n",
    "    with open(filename, \"w\") as file:\n",
    "        for line in string_list:\n",
    "            file.write(line + \"\\n\")\n",
    "\n",
    "write_list_to_file(\"output.txt\", lines)\n"
   ]
  },
  {
   "cell_type": "markdown",
   "id": "9c9a97d6",
   "metadata": {
    "id": "bea983a3"
   },
   "source": [
    "### Exercise 39:\n",
    "Write a Python script to count the number of lines that start with a specific letter (e.g., \"A\") in a text file.\n",
    "\n",
    "```python\n",
    "# Exercise 39\n",
    "```\n",
    "\n",
    "---"
   ]
  },
  {
   "cell_type": "code",
   "execution_count": 182,
   "id": "92a6cfb8",
   "metadata": {
    "id": "bea983a3"
   },
   "outputs": [
    {
     "name": "stdout",
     "output_type": "stream",
     "text": [
      "3\n"
     ]
    }
   ],
   "source": [
    "text = \"\"\"Apple is red\n",
    "Banana is yellow\n",
    "Avocado is green\n",
    "Apricot is sweet\n",
    "Berry is blue\"\"\"\n",
    "\n",
    "with open(\"fruits.txt\", \"w\") as file:\n",
    "    file.write(text)\n",
    "\n",
    "def count_lines_starting_with(filename, letter):\n",
    "    with open(filename, \"r\") as file:\n",
    "        lines = file.readlines()\n",
    "    count = sum(1 for line in lines if line.startswith(letter))\n",
    "    print(count)\n",
    "\n",
    "count_lines_starting_with(\"fruits.txt\", \"A\")\n"
   ]
  },
  {
   "cell_type": "markdown",
   "id": "f08964b4",
   "metadata": {
    "id": "bea983a3"
   },
   "source": [
    "### Exercise 40:\n",
    "Write a Python function that takes a string as input and writes it to a file `\"output.txt\"` in reverse order.\n",
    "\n",
    "```python\n",
    "# Exercise 40\n",
    "```\n",
    "\n",
    "---"
   ]
  },
  {
   "cell_type": "code",
   "execution_count": 183,
   "id": "5f025ee3",
   "metadata": {},
   "outputs": [],
   "source": [
    "def write_reverse(text):\n",
    "    with open(\"output.txt\", \"w\") as file:\n",
    "        file.write(text[::-1])\n",
    "\n",
    "write_reverse(\"Hello, Python!\")\n"
   ]
  },
  {
   "cell_type": "markdown",
   "id": "43acb23e",
   "metadata": {
    "id": "bea983a3"
   },
   "source": [
    "### Exercise 41:\n",
    "Write a Python script that reads a file and prints all the lines that contain the word `\"Python\"`.\n",
    "\n",
    "```python\n",
    "# Exercise 41\n",
    "```\n",
    "\n",
    "---"
   ]
  },
  {
   "cell_type": "code",
   "execution_count": 184,
   "id": "c92c73e4",
   "metadata": {},
   "outputs": [
    {
     "name": "stdout",
     "output_type": "stream",
     "text": [
      "I love Python programming.\n",
      "Python is versatile.\n"
     ]
    }
   ],
   "source": [
    "text = \"\"\"I love Python programming.\n",
    "Java is also popular.\n",
    "Python is versatile.\n",
    "C++ is powerful.\"\"\"\n",
    "\n",
    "with open(\"languages.txt\", \"w\") as file:\n",
    "    file.write(text)\n",
    "\n",
    "with open(\"languages.txt\", \"r\") as file:\n",
    "    lines = file.readlines()\n",
    "\n",
    "for line in lines:\n",
    "    if \"Python\" in line:\n",
    "        print(line.strip())\n"
   ]
  },
  {
   "cell_type": "markdown",
   "id": "2a173b99",
   "metadata": {
    "id": "bea983a3"
   },
   "source": [
    "### Exercise 42:\n",
    "Write a Python script that opens a file and removes all numeric digits from the file's content.\n",
    "\n",
    "```python\n",
    "# Exercise 42\n",
    "```\n",
    "\n",
    "---"
   ]
  },
  {
   "cell_type": "code",
   "execution_count": 185,
   "id": "48b6bacd",
   "metadata": {},
   "outputs": [],
   "source": [
    "text = \"My phone number is 123456 and I was born in 1990.\"\n",
    "\n",
    "with open(\"data.txt\", \"w\") as file:\n",
    "    file.write(text)\n",
    "\n",
    "def remove_digits(filename):\n",
    "    with open(filename, \"r\") as file:\n",
    "        content = file.read()\n",
    "    cleaned = ''.join(char for char in content if not char.isdigit())\n",
    "    with open(filename, \"w\") as file:\n",
    "        file.write(cleaned)\n",
    "\n",
    "remove_digits(\"data.txt\")\n"
   ]
  },
  {
   "cell_type": "markdown",
   "id": "bd3b7688",
   "metadata": {
    "id": "bea983a3"
   },
   "source": [
    "### Exercise 43:\n",
    "Write a Python script to find the most frequent word in a text file `\"book.txt\"`.\n",
    "\n",
    "```python\n",
    "# Exercise 43\n",
    "```\n",
    "\n",
    "---"
   ]
  },
  {
   "cell_type": "code",
   "execution_count": 186,
   "id": "3e1d0018",
   "metadata": {},
   "outputs": [
    {
     "name": "stdout",
     "output_type": "stream",
     "text": [
      "The most frequent word is 'python' appearing 3 times.\n"
     ]
    }
   ],
   "source": [
    "text = \"\"\"Python is great. Python is easy to learn. Learning Python is fun and useful.\"\"\"\n",
    "\n",
    "with open(\"book.txt\", \"w\") as file:\n",
    "    file.write(text)\n",
    "\n",
    "from collections import Counter\n",
    "import string\n",
    "\n",
    "with open(\"book.txt\", \"r\") as file:\n",
    "    content = file.read().lower()\n",
    "\n",
    "words = content.translate(str.maketrans('', '', string.punctuation)).split()\n",
    "frequency = Counter(words)\n",
    "most_common_word, count = frequency.most_common(1)[0]\n",
    "\n",
    "print(f\"The most frequent word is '{most_common_word}' appearing {count} times.\")\n"
   ]
  },
  {
   "cell_type": "markdown",
   "id": "25b70a95",
   "metadata": {
    "id": "bea983a3"
   },
   "source": [
    "### Exercise 44:\n",
    "Write a Python script that reads a file and prints all the lines that contain exactly 5 words.\n",
    "\n",
    "```python\n",
    "# Exercise 44\n",
    "```\n",
    "\n",
    "---"
   ]
  },
  {
   "cell_type": "code",
   "execution_count": 187,
   "id": "fcd6998a",
   "metadata": {},
   "outputs": [
    {
     "name": "stdout",
     "output_type": "stream",
     "text": [
      "Python is fun to learn\n"
     ]
    }
   ],
   "source": [
    "text = \"\"\"Python is fun to learn\n",
    "I love coding\n",
    "Data science is interesting\n",
    "AI is the future\n",
    "Learn Python today\"\"\"\n",
    "\n",
    "with open(\"sentences.txt\", \"w\") as file:\n",
    "    file.write(text)\n",
    "\n",
    "with open(\"sentences.txt\", \"r\") as file:\n",
    "    lines = file.readlines()\n",
    "\n",
    "for line in lines:\n",
    "    if len(line.split()) == 5:\n",
    "        print(line.strip())\n"
   ]
  },
  {
   "cell_type": "code",
   "execution_count": null,
   "id": "af5fd055",
   "metadata": {},
   "outputs": [],
   "source": []
  },
  {
   "cell_type": "markdown",
   "id": "73866779",
   "metadata": {
    "id": "bea983a3"
   },
   "source": [
    "### Exercise 45:\n",
    "Write a Python script to read a file and print the first and last line of the file.\n",
    "\n",
    "```python\n",
    "# Exercise 45\n",
    "```\n",
    "\n",
    "---"
   ]
  },
  {
   "cell_type": "code",
   "execution_count": null,
   "id": "541ef43d",
   "metadata": {},
   "outputs": [],
   "source": []
  },
  {
   "cell_type": "markdown",
   "id": "48f0a82d",
   "metadata": {
    "id": "bea983a3"
   },
   "source": [
    "### Exercise 46:\n",
    "Write a Python script that checks if a file `\"students.txt\"` is writable.\n",
    "\n",
    "```python\n",
    "# Exercise 46\n",
    "```\n",
    "\n",
    "---"
   ]
  },
  {
   "cell_type": "code",
   "execution_count": 188,
   "id": "49a3af18",
   "metadata": {},
   "outputs": [
    {
     "name": "stdout",
     "output_type": "stream",
     "text": [
      "The file is writable.\n"
     ]
    }
   ],
   "source": [
    "with open(\"students.txt\", \"w\") as file:\n",
    "    file.write(\"John\\nAlice\\nBob\")\n",
    "\n",
    "import os\n",
    "\n",
    "if os.access(\"students.txt\", os.W_OK):\n",
    "    print(\"The file is writable.\")\n",
    "else:\n",
    "    print(\"The file is not writable.\")\n"
   ]
  },
  {
   "cell_type": "markdown",
   "id": "1afcc4da",
   "metadata": {
    "id": "bea983a3"
   },
   "source": [
    "### Exercise 47:\n",
    "Create a Python function that opens a file and returns the number of unique words in the file.\n",
    "\n",
    "```python\n",
    "# Exercise 47\n",
    "```\n",
    "\n",
    "---"
   ]
  },
  {
   "cell_type": "code",
   "execution_count": 189,
   "id": "383cdb69",
   "metadata": {},
   "outputs": [
    {
     "name": "stdout",
     "output_type": "stream",
     "text": [
      "6\n"
     ]
    }
   ],
   "source": [
    "text = \"\"\"Python is fun. Python programming is powerful and fun.\"\"\"\n",
    "\n",
    "with open(\"unique_words.txt\", \"w\") as file:\n",
    "    file.write(text)\n",
    "\n",
    "def count_unique_words(filename):\n",
    "    import string\n",
    "    with open(filename, \"r\") as file:\n",
    "        content = file.read().lower()\n",
    "    words = content.translate(str.maketrans('', '', string.punctuation)).split()\n",
    "    unique_words = set(words)\n",
    "    return len(unique_words)\n",
    "\n",
    "print(count_unique_words(\"unique_words.txt\"))\n"
   ]
  },
  {
   "cell_type": "markdown",
   "id": "beada362",
   "metadata": {
    "id": "bea983a3"
   },
   "source": [
    "### Exercise 48:\n",
    "Write a Python script that reads a file and prints all lines in reverse order.\n",
    "\n",
    "```python\n",
    "# Exercise 48\n",
    "```\n",
    "\n",
    "---"
   ]
  },
  {
   "cell_type": "code",
   "execution_count": 190,
   "id": "fe368eb5",
   "metadata": {},
   "outputs": [
    {
     "name": "stdout",
     "output_type": "stream",
     "text": [
      "Line four\n",
      "Line three\n",
      "Line two\n",
      "Line one\n"
     ]
    }
   ],
   "source": [
    "text = \"\"\"Line one\n",
    "Line two\n",
    "Line three\n",
    "Line four\"\"\"\n",
    "\n",
    "with open(\"reverse_lines.txt\", \"w\") as file:\n",
    "    file.write(text)\n",
    "\n",
    "with open(\"reverse_lines.txt\", \"r\") as file:\n",
    "    lines = file.readlines()\n",
    "\n",
    "for line in reversed(lines):\n",
    "    print(line.strip())\n"
   ]
  },
  {
   "cell_type": "markdown",
   "id": "b8078a3e",
   "metadata": {
    "id": "bea983a3"
   },
   "source": [
    "### Exercise 49:\n",
    "Write a Python function that reads a file and returns the most common letter in the text.\n",
    "\n",
    "```python\n",
    "# Exercise 49\n",
    "```\n",
    "\n",
    "---"
   ]
  },
  {
   "cell_type": "code",
   "execution_count": 191,
   "id": "96d014f4",
   "metadata": {},
   "outputs": [
    {
     "name": "stdout",
     "output_type": "stream",
     "text": [
      "n\n"
     ]
    }
   ],
   "source": [
    "text = \"Python programming is fun and powerful.\"\n",
    "\n",
    "with open(\"letters.txt\", \"w\") as file:\n",
    "    file.write(text)\n",
    "\n",
    "def most_common_letter(filename):\n",
    "    from collections import Counter\n",
    "    import string\n",
    "\n",
    "    with open(filename, \"r\") as file:\n",
    "        content = file.read().lower()\n",
    "\n",
    "    letters_only = [char for char in content if char in string.ascii_lowercase]\n",
    "    frequency = Counter(letters_only)\n",
    "    most_common, count = frequency.most_common(1)[0]\n",
    "    return most_common\n",
    "\n",
    "print(most_common_letter(\"letters.txt\"))\n"
   ]
  },
  {
   "cell_type": "markdown",
   "id": "bea983a3",
   "metadata": {
    "id": "bea983a3"
   },
   "source": [
    "### Exercise 50:\n",
    "Write a Python script that reads a file and replaces every occurrence of `\"Python\"` with `\"Java\"`.\n",
    "\n",
    "```python\n",
    "# Exercise 50\n",
    "```\n",
    "\n",
    "---"
   ]
  },
  {
   "cell_type": "code",
   "execution_count": 192,
   "id": "f2a5e578",
   "metadata": {},
   "outputs": [],
   "source": [
    "text = \"\"\"Python is fun. I love Python programming. Python is versatile.\"\"\"\n",
    "\n",
    "with open(\"programming.txt\", \"w\") as file:\n",
    "    file.write(text)\n",
    "\n",
    "with open(\"programming.txt\", \"r\") as file:\n",
    "    content = file.read()\n",
    "\n",
    "content = content.replace(\"Python\", \"Java\")\n",
    "\n",
    "with open(\"programming.txt\", \"w\") as file:\n",
    "    file.write(content)\n"
   ]
  },
  {
   "cell_type": "code",
   "execution_count": null,
   "id": "40b2665f",
   "metadata": {},
   "outputs": [],
   "source": []
  },
  {
   "cell_type": "code",
   "execution_count": null,
   "id": "dcf6ca38",
   "metadata": {
    "id": "dcf6ca38"
   },
   "outputs": [],
   "source": []
  }
 ],
 "metadata": {
  "colab": {
   "provenance": []
  },
  "kernelspec": {
   "display_name": "Python 3 (ipykernel)",
   "language": "python",
   "name": "python3"
  },
  "language_info": {
   "codemirror_mode": {
    "name": "ipython",
    "version": 3
   },
   "file_extension": ".py",
   "mimetype": "text/x-python",
   "name": "python",
   "nbconvert_exporter": "python",
   "pygments_lexer": "ipython3",
   "version": "3.10.12"
  }
 },
 "nbformat": 4,
 "nbformat_minor": 5
}
