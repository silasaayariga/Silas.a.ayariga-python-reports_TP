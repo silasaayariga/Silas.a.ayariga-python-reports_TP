{
 "cells": [
  {
   "cell_type": "markdown",
   "id": "d68c1dee",
   "metadata": {
    "id": "d68c1dee"
   },
   "source": [
    "# Practical_3: Iterable objects or Containers"
   ]
  },
  {
   "cell_type": "markdown",
   "id": "d21ee553",
   "metadata": {
    "id": "bea983a3"
   },
   "source": [
    "---\n",
    "\n",
    "### Exercise 1:\n",
    "Create a list of integers from 1 to 10.\n",
    "\n",
    "```python\n",
    "# Exercise 1\n",
    "```\n",
    "\n",
    "---"
   ]
  },
  {
   "cell_type": "code",
   "execution_count": 2,
   "id": "85d57b45",
   "metadata": {},
   "outputs": [
    {
     "data": {
      "text/plain": [
       "[1, 2, 3, 4, 5, 6, 7, 8, 9, 10]"
      ]
     },
     "execution_count": 2,
     "metadata": {},
     "output_type": "execute_result"
    }
   ],
   "source": [
    "numbers = list(range(1, 11))\n",
    "numbers"
   ]
  },
  {
   "cell_type": "markdown",
   "id": "f3887e6e",
   "metadata": {
    "id": "bea983a3"
   },
   "source": [
    "### Exercise 2:\n",
    "Create a tuple containing the elements `\"apple\"`, `\"banana\"`, and `\"cherry\"`.\n",
    "\n",
    "```python\n",
    "# Exercise 2\n",
    "```\n",
    "\n",
    "---"
   ]
  },
  {
   "cell_type": "code",
   "execution_count": 3,
   "id": "c7eedb82",
   "metadata": {},
   "outputs": [
    {
     "data": {
      "text/plain": [
       "('apple', 'banana', 'cherry')"
      ]
     },
     "execution_count": 3,
     "metadata": {},
     "output_type": "execute_result"
    }
   ],
   "source": [
    "fruits = (\"apple\", \"banana\", \"cherry\")\n",
    "fruits"
   ]
  },
  {
   "cell_type": "markdown",
   "id": "3e9ff23b",
   "metadata": {
    "id": "bea983a3"
   },
   "source": [
    "### Exercise 3:\n",
    "Convert the list `numbers = [10, 20, 30, 40]` into a tuple.\n",
    "\n",
    "```python\n",
    "# Exercise 3\n",
    "```\n",
    "\n",
    "---"
   ]
  },
  {
   "cell_type": "code",
   "execution_count": 5,
   "id": "6521b76b",
   "metadata": {},
   "outputs": [
    {
     "data": {
      "text/plain": [
       "(10, 20, 30, 40)"
      ]
     },
     "execution_count": 5,
     "metadata": {},
     "output_type": "execute_result"
    }
   ],
   "source": [
    "numbers = [10, 20, 30, 40]\n",
    "tuple_numbers = tuple(numbers)\n",
    "tuple_numbers"
   ]
  },
  {
   "cell_type": "markdown",
   "id": "803c265b",
   "metadata": {
    "id": "bea983a3"
   },
   "source": [
    "### Exercise 4:\n",
    "Create a set containing the elements `1, 2, 3, 4, 5`.\n",
    "\n",
    "```python\n",
    "# Exercise 4\n",
    "```\n",
    "\n",
    "---"
   ]
  },
  {
   "cell_type": "code",
   "execution_count": 6,
   "id": "d9a6f52b",
   "metadata": {},
   "outputs": [
    {
     "data": {
      "text/plain": [
       "{1, 2, 3, 4, 5}"
      ]
     },
     "execution_count": 6,
     "metadata": {},
     "output_type": "execute_result"
    }
   ],
   "source": [
    "numbers_set = {1, 2, 3, 4, 5}\n",
    "numbers_set"
   ]
  },
  {
   "cell_type": "markdown",
   "id": "37c0e9a8",
   "metadata": {
    "id": "bea983a3"
   },
   "source": [
    "### Exercise 5:\n",
    "Create a dictionary `student` with the keys `\"name\"`, `\"age\"`, and `\"grade\"` and corresponding values `\"Alice\"`, `20`, and `\"A\"`.\n",
    "\n",
    "```python\n",
    "# Exercise 5\n",
    "```\n",
    "\n",
    "---"
   ]
  },
  {
   "cell_type": "code",
   "execution_count": 8,
   "id": "0d8d1314",
   "metadata": {},
   "outputs": [
    {
     "data": {
      "text/plain": [
       "{'name': 'Alice', 'age': 20, 'grade': 'A'}"
      ]
     },
     "execution_count": 8,
     "metadata": {},
     "output_type": "execute_result"
    }
   ],
   "source": [
    "student = {\"name\": \"Alice\", \"age\": 20, \"grade\": \"A\"}\n",
    "student"
   ]
  },
  {
   "cell_type": "markdown",
   "id": "ecc22025",
   "metadata": {
    "id": "bea983a3"
   },
   "source": [
    "### Exercise 6:\n",
    "Access the second element of the list `[10, 20, 30, 40, 50]` using indexing.\n",
    "\n",
    "```python\n",
    "# Exercise 6\n",
    "```\n",
    "\n",
    "---"
   ]
  },
  {
   "cell_type": "code",
   "execution_count": 9,
   "id": "173a0ef9",
   "metadata": {},
   "outputs": [
    {
     "data": {
      "text/plain": [
       "20"
      ]
     },
     "execution_count": 9,
     "metadata": {},
     "output_type": "execute_result"
    }
   ],
   "source": [
    "my_list = [10, 20, 30, 40, 50]\n",
    "second_element = my_list[1]\n",
    "second_element"
   ]
  },
  {
   "cell_type": "markdown",
   "id": "c8a5ebb6",
   "metadata": {
    "id": "bea983a3"
   },
   "source": [
    "### Exercise 7:\n",
    "Change the third element of the list `fruits = [\"apple\", \"banana\", \"cherry\", \"orange\"]` to `\"mango\"`.\n",
    "\n",
    "```python\n",
    "# Exercise 7\n",
    "```\n",
    "\n",
    "---"
   ]
  },
  {
   "cell_type": "code",
   "execution_count": 11,
   "id": "8941b937",
   "metadata": {},
   "outputs": [
    {
     "data": {
      "text/plain": [
       "['apple', 'banana', 'mango', 'orange']"
      ]
     },
     "execution_count": 11,
     "metadata": {},
     "output_type": "execute_result"
    }
   ],
   "source": [
    "fruits = [\"apple\", \"banana\", \"cherry\", \"orange\"]\n",
    "fruits[2] = \"mango\"\n",
    "fruits"
   ]
  },
  {
   "cell_type": "markdown",
   "id": "6986e452",
   "metadata": {
    "id": "bea983a3"
   },
   "source": [
    "### Exercise 8:\n",
    "Add the number `6` to the set `numbers = {1, 2, 3, 4, 5}`.\n",
    "\n",
    "```python\n",
    "# Exercise 8\n",
    "```\n",
    "\n",
    "---"
   ]
  },
  {
   "cell_type": "code",
   "execution_count": 13,
   "id": "d4c31e47",
   "metadata": {},
   "outputs": [
    {
     "data": {
      "text/plain": [
       "{1, 2, 3, 4, 5, 6}"
      ]
     },
     "execution_count": 13,
     "metadata": {},
     "output_type": "execute_result"
    }
   ],
   "source": [
    "numbers = {1, 2, 3, 4, 5}\n",
    "numbers.add(6)\n",
    "numbers"
   ]
  },
  {
   "cell_type": "markdown",
   "id": "7f7a0049",
   "metadata": {
    "id": "bea983a3"
   },
   "source": [
    "### Exercise 9:\n",
    "Remove the key `\"age\"` from the dictionary `person = {\"name\": \"John\", \"age\": 25, \"city\": \"New York\"}`.\n",
    "\n",
    "```python\n",
    "# Exercise 9\n",
    "```\n",
    "\n",
    "---"
   ]
  },
  {
   "cell_type": "code",
   "execution_count": 14,
   "id": "055f8576",
   "metadata": {},
   "outputs": [
    {
     "data": {
      "text/plain": [
       "{'name': 'John', 'city': 'New York'}"
      ]
     },
     "execution_count": 14,
     "metadata": {},
     "output_type": "execute_result"
    }
   ],
   "source": [
    "person = {\"name\": \"John\", \"age\": 25, \"city\": \"New York\"}\n",
    "del person[\"age\"]\n",
    "person"
   ]
  },
  {
   "cell_type": "markdown",
   "id": "2ecd87d1",
   "metadata": {
    "id": "bea983a3"
   },
   "source": [
    "### Exercise 10:\n",
    "Create a range object starting from 0 to 9.\n",
    "\n",
    "```python\n",
    "# Exercise 10\n",
    "```\n",
    "\n",
    "---"
   ]
  },
  {
   "cell_type": "code",
   "execution_count": 15,
   "id": "8622c589",
   "metadata": {},
   "outputs": [
    {
     "data": {
      "text/plain": [
       "range(0, 10)"
      ]
     },
     "execution_count": 15,
     "metadata": {},
     "output_type": "execute_result"
    }
   ],
   "source": [
    "my_range = range(10)\n",
    "my_range"
   ]
  },
  {
   "cell_type": "markdown",
   "id": "a90fd88c",
   "metadata": {
    "id": "bea983a3"
   },
   "source": [
    "### Exercise 11:\n",
    "Use a list comprehension to create a list of squares of numbers from 1 to 10.\n",
    "\n",
    "```python\n",
    "# Exercise 11\n",
    "```\n",
    "\n",
    "---"
   ]
  },
  {
   "cell_type": "code",
   "execution_count": 16,
   "id": "3f3253c1",
   "metadata": {},
   "outputs": [
    {
     "data": {
      "text/plain": [
       "[1, 4, 9, 16, 25, 36, 49, 64, 81, 100]"
      ]
     },
     "execution_count": 16,
     "metadata": {},
     "output_type": "execute_result"
    }
   ],
   "source": [
    "squares = [x ** 2 for x in range(1, 11)]\n",
    "squares"
   ]
  },
  {
   "cell_type": "markdown",
   "id": "3c97e12d",
   "metadata": {
    "id": "bea983a3"
   },
   "source": [
    "### Exercise 12:\n",
    "Create a tuple of even numbers between 2 and 10 using a tuple comprehension.\n",
    "\n",
    "```python\n",
    "# Exercise 12\n",
    "```\n",
    "\n",
    "---"
   ]
  },
  {
   "cell_type": "code",
   "execution_count": 17,
   "id": "257965ec",
   "metadata": {},
   "outputs": [
    {
     "data": {
      "text/plain": [
       "(2, 4, 6, 8, 10)"
      ]
     },
     "execution_count": 17,
     "metadata": {},
     "output_type": "execute_result"
    }
   ],
   "source": [
    "evens = tuple(x for x in range(2, 11, 2))\n",
    "evens"
   ]
  },
  {
   "cell_type": "markdown",
   "id": "8e05212f",
   "metadata": {
    "id": "bea983a3"
   },
   "source": [
    "### Exercise 13:\n",
    "Use a for loop to iterate through the list `fruits = [\"apple\", \"banana\", \"cherry\"]` and print each element.\n",
    "\n",
    "```python\n",
    "# Exercise 13\n",
    "```\n",
    "\n",
    "---"
   ]
  },
  {
   "cell_type": "code",
   "execution_count": 18,
   "id": "bb9d9275",
   "metadata": {},
   "outputs": [
    {
     "name": "stdout",
     "output_type": "stream",
     "text": [
      "apple\n",
      "banana\n",
      "cherry\n"
     ]
    }
   ],
   "source": [
    "fruits = [\"apple\", \"banana\", \"cherry\"]\n",
    "for fruit in fruits:\n",
    "    print(fruit)"
   ]
  },
  {
   "cell_type": "markdown",
   "id": "9d298e39",
   "metadata": {
    "id": "bea983a3"
   },
   "source": [
    "### Exercise 14:\n",
    "Check if the value `3` exists in the set `numbers = {1, 2, 3, 4, 5}`.\n",
    "\n",
    "```python\n",
    "# Exercise 14\n",
    "```\n",
    "\n",
    "---"
   ]
  },
  {
   "cell_type": "code",
   "execution_count": 20,
   "id": "5a9fd1c1",
   "metadata": {},
   "outputs": [
    {
     "data": {
      "text/plain": [
       "True"
      ]
     },
     "execution_count": 20,
     "metadata": {},
     "output_type": "execute_result"
    }
   ],
   "source": [
    "numbers = {1, 2, 3, 4, 5}\n",
    "3 in numbers"
   ]
  },
  {
   "cell_type": "markdown",
   "id": "dde9f98d",
   "metadata": {
    "id": "bea983a3"
   },
   "source": [
    "### Exercise 15:\n",
    "Use the `len()` function to find the length of the tuple `numbers = (10, 20, 30)`.\n",
    "\n",
    "```python\n",
    "# Exercise 15\n",
    "```\n",
    "\n",
    "---"
   ]
  },
  {
   "cell_type": "code",
   "execution_count": 22,
   "id": "292359cf",
   "metadata": {},
   "outputs": [
    {
     "data": {
      "text/plain": [
       "3"
      ]
     },
     "execution_count": 22,
     "metadata": {},
     "output_type": "execute_result"
    }
   ],
   "source": [
    "numbers = (10, 20, 30)\n",
    "len(numbers)"
   ]
  },
  {
   "cell_type": "markdown",
   "id": "ffb11436",
   "metadata": {
    "id": "bea983a3"
   },
   "source": [
    "### Exercise 16:\n",
    "Add the value `100` at the end of the list `scores = [80, 85, 90, 95]`.\n",
    "\n",
    "```python\n",
    "# Exercise 16\n",
    "```\n",
    "\n",
    "---"
   ]
  },
  {
   "cell_type": "code",
   "execution_count": 24,
   "id": "8f109afe",
   "metadata": {},
   "outputs": [
    {
     "data": {
      "text/plain": [
       "[80, 85, 90, 95, 100]"
      ]
     },
     "execution_count": 24,
     "metadata": {},
     "output_type": "execute_result"
    }
   ],
   "source": [
    "scores = [80, 85, 90, 95]\n",
    "scores.append(100)\n",
    "scores"
   ]
  },
  {
   "cell_type": "markdown",
   "id": "8271f198",
   "metadata": {
    "id": "bea983a3"
   },
   "source": [
    "### Exercise 17:\n",
    "Write a function that takes a list as input and returns the sum of all elements in the list.\n",
    "\n",
    "```python\n",
    "# Exercise 17\n",
    "```\n",
    "\n",
    "---"
   ]
  },
  {
   "cell_type": "code",
   "execution_count": 25,
   "id": "a05bfe5a",
   "metadata": {},
   "outputs": [],
   "source": [
    "def sum_list(elements):\n",
    "    return sum(elements)"
   ]
  },
  {
   "cell_type": "markdown",
   "id": "59364271",
   "metadata": {
    "id": "bea983a3"
   },
   "source": [
    "### Exercise 18:\n",
    "Create a set containing the unique elements of the list `numbers = [1, 2, 2, 3, 4, 4, 5]`.\n",
    "\n",
    "```python\n",
    "# Exercise 18\n",
    "```\n",
    "\n",
    "---"
   ]
  },
  {
   "cell_type": "code",
   "execution_count": 27,
   "id": "5517e74e",
   "metadata": {},
   "outputs": [
    {
     "data": {
      "text/plain": [
       "{1, 2, 3, 4, 5}"
      ]
     },
     "execution_count": 27,
     "metadata": {},
     "output_type": "execute_result"
    }
   ],
   "source": [
    "numbers = [1, 2, 2, 3, 4, 4, 5]\n",
    "set(numbers)"
   ]
  },
  {
   "cell_type": "markdown",
   "id": "c190b539",
   "metadata": {
    "id": "bea983a3"
   },
   "source": [
    "### Exercise 19:\n",
    "Convert the string `\"hello\"` into a list of characters.\n",
    "\n",
    "```python\n",
    "# Exercise 19\n",
    "```\n",
    "\n",
    "---"
   ]
  },
  {
   "cell_type": "code",
   "execution_count": 29,
   "id": "23b109df",
   "metadata": {},
   "outputs": [
    {
     "data": {
      "text/plain": [
       "['h', 'e', 'l', 'l', 'o']"
      ]
     },
     "execution_count": 29,
     "metadata": {},
     "output_type": "execute_result"
    }
   ],
   "source": [
    "list(\"hello\")"
   ]
  },
  {
   "cell_type": "markdown",
   "id": "54d4c5c7",
   "metadata": {
    "id": "bea983a3"
   },
   "source": [
    "### Exercise 20:\n",
    "Write a Python function that reverses a tuple `(1, 2, 3, 4)`.\n",
    "\n",
    "```python\n",
    "# Exercise 20\n",
    "```\n",
    "\n",
    "---"
   ]
  },
  {
   "cell_type": "code",
   "execution_count": 30,
   "id": "8b8d07d9",
   "metadata": {},
   "outputs": [],
   "source": [
    "def reverse_tuple(tup):\n",
    "    return tup[::-1]"
   ]
  },
  {
   "cell_type": "markdown",
   "id": "7efca02a",
   "metadata": {
    "id": "bea983a3"
   },
   "source": [
    "### Exercise 21:\n",
    "Merge two dictionaries `dict1 = {\"a\": 1, \"b\": 2}` and `dict2 = {\"c\": 3, \"d\": 4}` into a single dictionary.\n",
    "\n",
    "```python\n",
    "# Exercise 21\n",
    "```\n",
    "\n",
    "---"
   ]
  },
  {
   "cell_type": "code",
   "execution_count": 32,
   "id": "2bcd26b6",
   "metadata": {},
   "outputs": [
    {
     "data": {
      "text/plain": [
       "{'a': 1, 'b': 2, 'c': 3, 'd': 4}"
      ]
     },
     "execution_count": 32,
     "metadata": {},
     "output_type": "execute_result"
    }
   ],
   "source": [
    "dict1 = {\"a\": 1, \"b\": 2}\n",
    "dict2 = {\"c\": 3, \"d\": 4}\n",
    "merged = {**dict1, **dict2}\n",
    "merged"
   ]
  },
  {
   "cell_type": "markdown",
   "id": "9088c863",
   "metadata": {
    "id": "bea983a3"
   },
   "source": [
    "### Exercise 22:\n",
    "Create a dictionary where keys are numbers from 1 to 5, and values are their squares.\n",
    "\n",
    "```python\n",
    "# Exercise 22\n",
    "```\n",
    "\n",
    "---"
   ]
  },
  {
   "cell_type": "code",
   "execution_count": 34,
   "id": "a7705602",
   "metadata": {},
   "outputs": [
    {
     "data": {
      "text/plain": [
       "{1: 1, 2: 4, 3: 9, 4: 16, 5: 25}"
      ]
     },
     "execution_count": 34,
     "metadata": {},
     "output_type": "execute_result"
    }
   ],
   "source": [
    "squares_dict = {x: x ** 2 for x in range(1, 6)}\n",
    "squares_dict"
   ]
  },
  {
   "cell_type": "markdown",
   "id": "0b57e52a",
   "metadata": {
    "id": "bea983a3"
   },
   "source": [
    "### Exercise 23:\n",
    "Write a Python program to iterate through a dictionary and print each key-value pair.\n",
    "\n",
    "```python\n",
    "# Exercise 23\n",
    "```\n",
    "\n",
    "---"
   ]
  },
  {
   "cell_type": "code",
   "execution_count": 35,
   "id": "75df43dd",
   "metadata": {},
   "outputs": [
    {
     "name": "stdout",
     "output_type": "stream",
     "text": [
      "name Alice\n",
      "age 20\n",
      "grade A\n"
     ]
    }
   ],
   "source": [
    "my_dict = {\"name\": \"Alice\", \"age\": 20, \"grade\": \"A\"}  # Example dictionary\n",
    "for key, value in my_dict.items():\n",
    "    print(key, value)"
   ]
  },
  {
   "cell_type": "markdown",
   "id": "74854b79",
   "metadata": {
    "id": "bea983a3"
   },
   "source": [
    "### Exercise 24:\n",
    "Create a list of the first 5 letters of the alphabet using the `chr()` function.\n",
    "\n",
    "```python\n",
    "# Exercise 24\n",
    "```\n",
    "\n",
    "---"
   ]
  },
  {
   "cell_type": "code",
   "execution_count": 37,
   "id": "beeda01f",
   "metadata": {},
   "outputs": [
    {
     "data": {
      "text/plain": [
       "['a', 'b', 'c', 'd', 'e']"
      ]
     },
     "execution_count": 37,
     "metadata": {},
     "output_type": "execute_result"
    }
   ],
   "source": [
    "letters = [chr(i) for i in range(ord('a'), ord('a') + 5)]\n",
    "letters"
   ]
  },
  {
   "cell_type": "markdown",
   "id": "dd9f60c8",
   "metadata": {
    "id": "bea983a3"
   },
   "source": [
    "### Exercise 25:\n",
    "Use the `zip()` function to combine two lists `[1, 2, 3]` and `[\"a\", \"b\", \"c\"]` into a list of tuples.\n",
    "\n",
    "```python\n",
    "# Exercise 25\n",
    "```\n",
    "\n",
    "---"
   ]
  },
  {
   "cell_type": "code",
   "execution_count": 38,
   "id": "e32d70de",
   "metadata": {},
   "outputs": [
    {
     "data": {
      "text/plain": [
       "[(1, 'a'), (2, 'b'), (3, 'c')]"
      ]
     },
     "execution_count": 38,
     "metadata": {},
     "output_type": "execute_result"
    }
   ],
   "source": [
    "combined = list(zip([1, 2, 3], [\"a\", \"b\", \"c\"]))\n",
    "combined"
   ]
  },
  {
   "cell_type": "markdown",
   "id": "7c360119",
   "metadata": {
    "id": "bea983a3"
   },
   "source": [
    "### Exercise 26:\n",
    "Find the index of the value `50` in the list `[10, 20, 30, 40, 50]`.\n",
    "\n",
    "```python\n",
    "# Exercise 26\n",
    "```\n",
    "\n",
    "---"
   ]
  },
  {
   "cell_type": "code",
   "execution_count": 40,
   "id": "6b7e1779",
   "metadata": {},
   "outputs": [
    {
     "data": {
      "text/plain": [
       "4"
      ]
     },
     "execution_count": 40,
     "metadata": {},
     "output_type": "execute_result"
    }
   ],
   "source": [
    "my_list = [10, 20, 30, 40, 50]\n",
    "index_50 = my_list.index(50)\n",
    "index_50"
   ]
  },
  {
   "cell_type": "markdown",
   "id": "53cd9d90",
   "metadata": {
    "id": "bea983a3"
   },
   "source": [
    "### Exercise 27:\n",
    "Sort the list `names = [\"Alice\", \"Bob\", \"Charlie\", \"David\"]` in alphabetical order.\n",
    "\n",
    "```python\n",
    "# Exercise 27\n",
    "```\n",
    "\n",
    "---"
   ]
  },
  {
   "cell_type": "code",
   "execution_count": 42,
   "id": "2e3fe0d9",
   "metadata": {},
   "outputs": [
    {
     "data": {
      "text/plain": [
       "['Alice', 'Bob', 'Charlie', 'David']"
      ]
     },
     "execution_count": 42,
     "metadata": {},
     "output_type": "execute_result"
    }
   ],
   "source": [
    "names = [\"Alice\", \"Bob\", \"Charlie\", \"David\"]\n",
    "names.sort()\n",
    "names"
   ]
  },
  {
   "cell_type": "markdown",
   "id": "3b710c35",
   "metadata": {
    "id": "bea983a3"
   },
   "source": [
    "### Exercise 28:\n",
    "Write a Python function that takes a list of integers as input and returns the largest number.\n",
    "\n",
    "```python\n",
    "# Exercise 28\n",
    "```\n",
    "\n",
    "---"
   ]
  },
  {
   "cell_type": "code",
   "execution_count": 44,
   "id": "6eeffb22",
   "metadata": {},
   "outputs": [
    {
     "data": {
      "text/plain": [
       "<function __main__.largest_number(numbers)>"
      ]
     },
     "execution_count": 44,
     "metadata": {},
     "output_type": "execute_result"
    }
   ],
   "source": [
    "def largest_number(numbers):\n",
    "    return max(numbers)\n",
    "largest_number\n"
   ]
  },
  {
   "cell_type": "markdown",
   "id": "d78902ce",
   "metadata": {
    "id": "bea983a3"
   },
   "source": [
    "### Exercise 29:\n",
    "Use the `count()` method to count how many times `\"apple\"` appears in the list `fruits = [\"apple\", \"banana\", \"apple\", \"orange\"]`.\n",
    "\n",
    "```python\n",
    "# Exercise 29\n",
    "```\n",
    "\n",
    "---"
   ]
  },
  {
   "cell_type": "code",
   "execution_count": 47,
   "id": "f33cf042",
   "metadata": {},
   "outputs": [
    {
     "data": {
      "text/plain": [
       "2"
      ]
     },
     "execution_count": 47,
     "metadata": {},
     "output_type": "execute_result"
    }
   ],
   "source": [
    "fruits = [\"apple\", \"banana\", \"apple\", \"orange\"]\n",
    "count_apple = fruits.count(\"apple\")\n",
    "count_apple"
   ]
  },
  {
   "cell_type": "markdown",
   "id": "94c9c239",
   "metadata": {
    "id": "bea983a3"
   },
   "source": [
    "### Exercise 30:\n",
    "Create a dictionary `person` where keys are `\"name\"`, `\"age\"`, and `\"city\"`, and values are `\"Alice\"`, `25`, and `\"New York\"` respectively. Then access the value of the `\"city\"` key.\n",
    "\n",
    "```python\n",
    "# Exercise 30\n",
    "```\n",
    "\n",
    "---"
   ]
  },
  {
   "cell_type": "code",
   "execution_count": 49,
   "id": "94a701ba",
   "metadata": {},
   "outputs": [
    {
     "data": {
      "text/plain": [
       "'New York'"
      ]
     },
     "execution_count": 49,
     "metadata": {},
     "output_type": "execute_result"
    }
   ],
   "source": [
    "person = {\"name\": \"Alice\", \"age\": 25, \"city\": \"New York\"}\n",
    "city = person[\"city\"]\n",
    "city"
   ]
  },
  {
   "cell_type": "markdown",
   "id": "add77ddd",
   "metadata": {
    "id": "bea983a3"
   },
   "source": [
    "### Exercise 31:\n",
    "Write a Python function that takes a list as input and returns a new list with all duplicates removed.\n",
    "\n",
    "```python\n",
    "# Exercise 31\n",
    "```\n",
    "\n",
    "---"
   ]
  },
  {
   "cell_type": "code",
   "execution_count": 50,
   "id": "364822a2",
   "metadata": {},
   "outputs": [],
   "source": [
    "def remove_duplicates(my_list):\n",
    "    return list(dict.fromkeys(my_list))"
   ]
  },
  {
   "cell_type": "markdown",
   "id": "1e73ed6c",
   "metadata": {
    "id": "bea983a3"
   },
   "source": [
    "### Exercise 32:\n",
    "Write a Python function that takes two lists and returns their intersection.\n",
    "\n",
    "```python\n",
    "# Exercise 32\n",
    "```\n",
    "\n",
    "---"
   ]
  },
  {
   "cell_type": "code",
   "execution_count": 51,
   "id": "0cd75d97",
   "metadata": {},
   "outputs": [],
   "source": [
    "def list_intersection(list1, list2):\n",
    "    return list(set(list1) & set(list2))"
   ]
  },
  {
   "cell_type": "markdown",
   "id": "13926c88",
   "metadata": {
    "id": "bea983a3"
   },
   "source": [
    "### Exercise 33:\n",
    "Create a generator that yields the squares of numbers from 1 to 10.\n",
    "\n",
    "```python\n",
    "# Exercise 33\n",
    "```\n",
    "\n",
    "---"
   ]
  },
  {
   "cell_type": "code",
   "execution_count": 60,
   "id": "553a8d7f",
   "metadata": {},
   "outputs": [],
   "source": [
    "def square_generator():\n",
    "    for x in range(1, 11):\n",
    "        yield x ** 2\n"
   ]
  },
  {
   "cell_type": "markdown",
   "id": "39dc3973",
   "metadata": {
    "id": "bea983a3"
   },
   "source": [
    "### Exercise 34:\n",
    "Write a Python function that takes a dictionary as input and returns the sum of all its values.\n",
    "\n",
    "```python\n",
    "# Exercise 34\n",
    "```\n",
    "\n",
    "---"
   ]
  },
  {
   "cell_type": "code",
   "execution_count": 64,
   "id": "8114effd",
   "metadata": {},
   "outputs": [],
   "source": [
    "def sum_dict_values(my_dict):\n",
    "    return sum(my_dict.values())"
   ]
  },
  {
   "cell_type": "markdown",
   "id": "e185f112",
   "metadata": {
    "id": "bea983a3"
   },
   "source": [
    "### Exercise 35:\n",
    "Use the `sorted()` function to sort the list `[3, 1, 4, 1, 5, 9]` in ascending order.\n",
    "\n",
    "```python\n",
    "# Exercise 35\n",
    "```\n",
    "\n",
    "---"
   ]
  },
  {
   "cell_type": "code",
   "execution_count": 63,
   "id": "11753ff4",
   "metadata": {},
   "outputs": [],
   "source": [
    "my_list = [3, 1, 4, 1, 5, 9]\n",
    "sorted_list = sorted(my_list)"
   ]
  },
  {
   "cell_type": "markdown",
   "id": "fc3074fd",
   "metadata": {
    "id": "bea983a3"
   },
   "source": [
    "### Exercise 36:\n",
    "Write a Python function that takes a list of strings as input and returns the longest string.\n",
    "\n",
    "```python\n",
    "# Exercise 36\n",
    "```\n",
    "\n",
    "---"
   ]
  },
  {
   "cell_type": "code",
   "execution_count": 65,
   "id": "ca091e97",
   "metadata": {},
   "outputs": [],
   "source": [
    "def longest_string(strings):\n",
    "    return max(strings, key=len)"
   ]
  },
  {
   "cell_type": "markdown",
   "id": "8b1b507a",
   "metadata": {
    "id": "bea983a3"
   },
   "source": [
    "### Exercise 37:\n",
    "Check if all the elements in the list `[1, 2, 3, 4, 5]` are greater than 0 using the `all()` function.\n",
    "\n",
    "```python\n",
    "# Exercise 37\n",
    "```\n",
    "\n",
    "---"
   ]
  },
  {
   "cell_type": "code",
   "execution_count": 68,
   "id": "9bba38e7",
   "metadata": {},
   "outputs": [
    {
     "data": {
      "text/plain": [
       "True"
      ]
     },
     "execution_count": 68,
     "metadata": {},
     "output_type": "execute_result"
    }
   ],
   "source": [
    "my_list = [1, 2, 3, 4, 5]\n",
    "all(x > 0 for x in my_list)"
   ]
  },
  {
   "cell_type": "markdown",
   "id": "726ccf45",
   "metadata": {
    "id": "bea983a3"
   },
   "source": [
    "### Exercise 38:\n",
    "Create a list of tuples where each tuple contains a number and its square for numbers from 1 to 5.\n",
    "\n",
    "```python\n",
    "# Exercise 38\n",
    "```\n",
    "\n",
    "---"
   ]
  },
  {
   "cell_type": "code",
   "execution_count": 70,
   "id": "6540d840",
   "metadata": {},
   "outputs": [
    {
     "data": {
      "text/plain": [
       "[(1, 1), (2, 4), (3, 9), (4, 16), (5, 25)]"
      ]
     },
     "execution_count": 70,
     "metadata": {},
     "output_type": "execute_result"
    }
   ],
   "source": [
    "num_squares = [(x, x ** 2) for x in range(1, 6)]\n",
    "num_squares"
   ]
  },
  {
   "cell_type": "markdown",
   "id": "afb9a8bf",
   "metadata": {
    "id": "bea983a3"
   },
   "source": [
    "### Exercise 39:\n",
    "Write a Python function that takes a list of tuples and returns a list of the second elements from each tuple.\n",
    "\n",
    "```python\n",
    "# Exercise 39\n",
    "```\n",
    "\n",
    "---"
   ]
  },
  {
   "cell_type": "code",
   "execution_count": 71,
   "id": "f36f1965",
   "metadata": {},
   "outputs": [],
   "source": [
    "def second_elements(tuples_list):\n",
    "    return [t[1] for t in tuples_list]"
   ]
  },
  {
   "cell_type": "markdown",
   "id": "68875b89",
   "metadata": {
    "id": "bea983a3"
   },
   "source": [
    "### Exercise 40:\n",
    "Write a Python function that flattens a list of lists into a single list.\n",
    "\n",
    "```python\n",
    "# Exercise 40\n",
    "```\n",
    "\n",
    "---"
   ]
  },
  {
   "cell_type": "code",
   "execution_count": 72,
   "id": "7c43363b",
   "metadata": {},
   "outputs": [],
   "source": [
    "def flatten_list(list_of_lists):\n",
    "    return [item for sublist in list_of_lists for item in sublist]"
   ]
  },
  {
   "cell_type": "markdown",
   "id": "f8e676ac",
   "metadata": {
    "id": "bea983a3"
   },
   "source": [
    "### Exercise 41:\n",
    "Use the `enumerate()` function to iterate through the list `[\"apple\", \"banana\", \"cherry\"]` and print the index and value.\n",
    "\n",
    "```python\n",
    "# Exercise 41\n",
    "```\n",
    "\n",
    "---"
   ]
  },
  {
   "cell_type": "code",
   "execution_count": 73,
   "id": "515260c1",
   "metadata": {},
   "outputs": [
    {
     "name": "stdout",
     "output_type": "stream",
     "text": [
      "0 apple\n",
      "1 banana\n",
      "2 cherry\n"
     ]
    }
   ],
   "source": [
    "fruits = [\"apple\", \"banana\", \"cherry\"]\n",
    "for index, value in enumerate(fruits):\n",
    "    print(index, value)"
   ]
  },
  {
   "cell_type": "markdown",
   "id": "5448e84f",
   "metadata": {
    "id": "bea983a3"
   },
   "source": [
    "### Exercise 42:\n",
    "Write a Python program that checks if a tuple is empty.\n",
    "\n",
    "```python\n",
    "# Exercise 42\n",
    "```\n",
    "\n",
    "---"
   ]
  },
  {
   "cell_type": "code",
   "execution_count": 75,
   "id": "58233d76",
   "metadata": {},
   "outputs": [
    {
     "data": {
      "text/plain": [
       "True"
      ]
     },
     "execution_count": 75,
     "metadata": {},
     "output_type": "execute_result"
    }
   ],
   "source": [
    "my_tuple = ()  # Example empty tuple\n",
    "not bool(my_tuple)"
   ]
  },
  {
   "cell_type": "markdown",
   "id": "734221c7",
   "metadata": {
    "id": "bea983a3"
   },
   "source": [
    "### Exercise 43:\n",
    "Create a list of even numbers between 1 and 20 using the `range()` function.\n",
    "\n",
    "```python\n",
    "# Exercise 43\n",
    "```\n",
    "\n",
    "---"
   ]
  },
  {
   "cell_type": "code",
   "execution_count": 77,
   "id": "0b94bce6",
   "metadata": {},
   "outputs": [
    {
     "data": {
      "text/plain": [
       "[2, 4, 6, 8, 10, 12, 14, 16, 18, 20]"
      ]
     },
     "execution_count": 77,
     "metadata": {},
     "output_type": "execute_result"
    }
   ],
   "source": [
    "even_numbers = list(range(2, 21, 2))\n",
    "even_numbers"
   ]
  },
  {
   "cell_type": "markdown",
   "id": "26652e86",
   "metadata": {
    "id": "bea983a3"
   },
   "source": [
    "### Exercise 44:\n",
    "Write a Python function that takes a list of numbers as input and returns the list in reverse order.\n",
    "\n",
    "```python\n",
    "# Exercise 44\n",
    "```\n",
    "\n",
    "---"
   ]
  },
  {
   "cell_type": "code",
   "execution_count": 78,
   "id": "2b3b5e1b",
   "metadata": {},
   "outputs": [],
   "source": [
    "def reverse_list(numbers):\n",
    "    return numbers[::-1]"
   ]
  },
  {
   "cell_type": "markdown",
   "id": "845f64df",
   "metadata": {
    "id": "bea983a3"
   },
   "source": [
    "### Exercise 45:\n",
    "Create a dictionary comprehension that maps numbers from 1 to 5 to their cubes.\n",
    "\n",
    "```python\n",
    "# Exercise 45\n",
    "```\n",
    "\n",
    "---"
   ]
  },
  {
   "cell_type": "code",
   "execution_count": 80,
   "id": "56e5307a",
   "metadata": {},
   "outputs": [
    {
     "data": {
      "text/plain": [
       "{1: 1, 2: 8, 3: 27, 4: 64, 5: 125}"
      ]
     },
     "execution_count": 80,
     "metadata": {},
     "output_type": "execute_result"
    }
   ],
   "source": [
    "cubes_dict = {x: x ** 3 for x in range(1, 6)}\n",
    "cubes_dict"
   ]
  },
  {
   "cell_type": "markdown",
   "id": "b55bf0c3",
   "metadata": {
    "id": "bea983a3"
   },
   "source": [
    "### Exercise 46:\n",
    "Write a Python program that creates a new list containing only the unique elements of the list `[1, 2, 2, 3, 4, 4, 5]`.\n",
    "\n",
    "```python\n",
    "# Exercise 46\n",
    "```\n",
    "\n",
    "---"
   ]
  },
  {
   "cell_type": "code",
   "execution_count": 82,
   "id": "75f91064",
   "metadata": {},
   "outputs": [
    {
     "data": {
      "text/plain": [
       "[1, 2, 3, 4, 5]"
      ]
     },
     "execution_count": 82,
     "metadata": {},
     "output_type": "execute_result"
    }
   ],
   "source": [
    "numbers = [1, 2, 2, 3, 4, 4, 5]\n",
    "unique_list = list(dict.fromkeys(numbers))\n",
    "unique_list"
   ]
  },
  {
   "cell_type": "markdown",
   "id": "1517299f",
   "metadata": {
    "id": "bea983a3"
   },
   "source": [
    "### Exercise 47:\n",
    "Write a Python function that takes a list of dictionaries and returns a list of the values for a given key.\n",
    "\n",
    "```python\n",
    "# Exercise 47\n",
    "```\n",
    "\n",
    "---"
   ]
  },
  {
   "cell_type": "code",
   "execution_count": 83,
   "id": "18d98e32",
   "metadata": {},
   "outputs": [],
   "source": [
    "def extract_values(list_of_dicts, key):\n",
    "    return [d[key] for d in list_of_dicts if key in d]"
   ]
  },
  {
   "cell_type": "markdown",
   "id": "11c3c229",
   "metadata": {
    "id": "bea983a3"
   },
   "source": [
    "### Exercise 48:\n",
    "Write a Python function that uses a generator to yield the Fibonacci sequence up to `n` terms.\n",
    "\n",
    "```python\n",
    "# Exercise 48\n",
    "```\n",
    "\n",
    "---"
   ]
  },
  {
   "cell_type": "code",
   "execution_count": 84,
   "id": "60e4877b",
   "metadata": {},
   "outputs": [],
   "source": [
    "def fibonacci_generator(n):\n",
    "    a, b = 0, 1\n",
    "    for _ in range(n):\n",
    "        yield a\n",
    "        a, b = b, a + b"
   ]
  },
  {
   "cell_type": "markdown",
   "id": "0af8dac0",
   "metadata": {
    "id": "bea983a3"
   },
   "source": [
    "### Exercise 49:\n",
    "Write a Python function that takes a string and returns a list of all unique characters in the string.\n",
    "\n",
    "```python\n",
    "# Exercise 49\n",
    "```\n",
    "\n",
    "---"
   ]
  },
  {
   "cell_type": "code",
   "execution_count": 85,
   "id": "e4e0f621",
   "metadata": {},
   "outputs": [],
   "source": [
    "def unique_characters(s):\n",
    "    return list(set(s))"
   ]
  },
  {
   "cell_type": "markdown",
   "id": "11e667bb",
   "metadata": {
    "id": "bea983a3"
   },
   "source": [
    "### Exercise 50:\n",
    "Write a Python function that merges two sorted lists into a single sorted list.\n",
    "\n",
    "```python\n",
    "# Exercise 50\n",
    "```\n",
    "\n",
    "---"
   ]
  },
  {
   "cell_type": "code",
   "execution_count": 86,
   "id": "16bb6f81",
   "metadata": {},
   "outputs": [],
   "source": [
    "def merge_sorted_lists(list1, list2):\n",
    "    return sorted(list1 + list2)"
   ]
  },
  {
   "cell_type": "markdown",
   "id": "92aa2941",
   "metadata": {
    "id": "bea983a3"
   },
   "source": [
    "### Exercise 51:\n",
    "Use the\n",
    "\n",
    " `filter()` function to filter out odd numbers from the list `[1, 2, 3, 4, 5, 6]`.\n",
    "\n",
    "```python\n",
    "# Exercise 51\n",
    "```\n",
    "\n",
    "---"
   ]
  },
  {
   "cell_type": "code",
   "execution_count": 88,
   "id": "6f43ecfe",
   "metadata": {},
   "outputs": [
    {
     "data": {
      "text/plain": [
       "[2, 4, 6]"
      ]
     },
     "execution_count": 88,
     "metadata": {},
     "output_type": "execute_result"
    }
   ],
   "source": [
    "my_list = [1, 2, 3, 4, 5, 6]\n",
    "even_numbers = list(filter(lambda x: x % 2 == 0, my_list))\n",
    "even_numbers"
   ]
  },
  {
   "cell_type": "markdown",
   "id": "f9065222",
   "metadata": {
    "id": "bea983a3"
   },
   "source": [
    "### Exercise 52:\n",
    "Write a Python program that converts a list of tuples `[(1, 2), (3, 4), (5, 6)]` into a dictionary.\n",
    "\n",
    "```python\n",
    "# Exercise 52\n",
    "```\n",
    "\n",
    "---"
   ]
  },
  {
   "cell_type": "code",
   "execution_count": 90,
   "id": "0e56620c",
   "metadata": {},
   "outputs": [
    {
     "data": {
      "text/plain": [
       "{1: 2, 3: 4, 5: 6}"
      ]
     },
     "execution_count": 90,
     "metadata": {},
     "output_type": "execute_result"
    }
   ],
   "source": [
    "tuples_list = [(1, 2), (3, 4), (5, 6)]\n",
    "my_dict = dict(tuples_list)\n",
    "my_dict"
   ]
  },
  {
   "cell_type": "markdown",
   "id": "7f9172f6",
   "metadata": {
    "id": "bea983a3"
   },
   "source": [
    "### Exercise 53:\n",
    "Write a Python function that takes two sets and returns their symmetric difference.\n",
    "\n",
    "```python\n",
    "# Exercise 53\n",
    "```\n",
    "\n",
    "---"
   ]
  },
  {
   "cell_type": "code",
   "execution_count": 91,
   "id": "97e161dc",
   "metadata": {},
   "outputs": [],
   "source": [
    "def symmetric_difference(set1, set2):\n",
    "    return set1 ^ set2"
   ]
  },
  {
   "cell_type": "markdown",
   "id": "e84e0e4b",
   "metadata": {
    "id": "bea983a3"
   },
   "source": [
    "### Exercise 54:\n",
    "Write a Python program that finds the common elements in three lists `list1`, `list2`, and `list3`.\n",
    "\n",
    "```python\n",
    "# Exercise 54\n",
    "```\n",
    "\n",
    "---"
   ]
  },
  {
   "cell_type": "code",
   "execution_count": 93,
   "id": "c4a0ba08",
   "metadata": {},
   "outputs": [
    {
     "data": {
      "text/plain": [
       "[3]"
      ]
     },
     "execution_count": 93,
     "metadata": {},
     "output_type": "execute_result"
    }
   ],
   "source": [
    "list1 = [1, 2, 3]  # Example lists\n",
    "list2 = [2, 3, 4]\n",
    "list3 = [3, 4, 5]\n",
    "common = list(set(list1) & set(list2) & set(list3))\n",
    "common"
   ]
  },
  {
   "cell_type": "markdown",
   "id": "c14b4d8f",
   "metadata": {
    "id": "bea983a3"
   },
   "source": [
    "### Exercise 55:\n",
    "Write a Python function that returns the factorial of a number using recursion.\n",
    "\n",
    "```python\n",
    "# Exercise 55\n",
    "```\n",
    "\n",
    "---"
   ]
  },
  {
   "cell_type": "code",
   "execution_count": 94,
   "id": "3dbdc944",
   "metadata": {},
   "outputs": [],
   "source": [
    "def factorial(n):\n",
    "    if n == 0:\n",
    "        return 1\n",
    "    return n * factorial(n - 1)"
   ]
  },
  {
   "cell_type": "markdown",
   "id": "63b3cfe7",
   "metadata": {
    "id": "bea983a3"
   },
   "source": [
    "### Exercise 56:\n",
    "Write a Python program that removes all empty strings from the list `[\"apple\", \"\", \"banana\", \"\", \"cherry\"]`.\n",
    "\n",
    "```python\n",
    "# Exercise 56\n",
    "```\n",
    "\n",
    "---"
   ]
  },
  {
   "cell_type": "code",
   "execution_count": 96,
   "id": "11777f6e",
   "metadata": {},
   "outputs": [
    {
     "data": {
      "text/plain": [
       "['apple', 'banana', 'cherry']"
      ]
     },
     "execution_count": 96,
     "metadata": {},
     "output_type": "execute_result"
    }
   ],
   "source": [
    "fruits = [\"apple\", \"\", \"banana\", \"\", \"cherry\"]\n",
    "non_empty = [f for f in fruits if f]\n",
    "non_empty"
   ]
  },
  {
   "cell_type": "markdown",
   "id": "8fa82099",
   "metadata": {
    "id": "bea983a3"
   },
   "source": [
    "### Exercise 57:\n",
    "Write a Python function that takes a dictionary and returns a new dictionary with the keys and values swapped.\n",
    "\n",
    "```python\n",
    "# Exercise 57\n",
    "```\n",
    "\n",
    "---"
   ]
  },
  {
   "cell_type": "code",
   "execution_count": 97,
   "id": "0db94680",
   "metadata": {},
   "outputs": [],
   "source": [
    "def swap_keys_values(my_dict):\n",
    "    return {v: k for k, v in my_dict.items()}"
   ]
  },
  {
   "cell_type": "markdown",
   "id": "e8b99c04",
   "metadata": {
    "id": "bea983a3"
   },
   "source": [
    "### Exercise 58:\n",
    "Write a Python function that takes a list of integers and returns a new list with only the even numbers.\n",
    "\n",
    "```python\n",
    "# Exercise 58\n",
    "```\n",
    "\n",
    "---"
   ]
  },
  {
   "cell_type": "code",
   "execution_count": 98,
   "id": "12526229",
   "metadata": {},
   "outputs": [],
   "source": [
    "def even_numbers(numbers):\n",
    "    return [x for x in numbers if x % 2 == 0]"
   ]
  },
  {
   "cell_type": "markdown",
   "id": "66e4089e",
   "metadata": {
    "id": "bea983a3"
   },
   "source": [
    "### Exercise 59:\n",
    "Write a Python function that takes a list of tuples and returns a list of the first elements of each tuple.\n",
    "\n",
    "```python\n",
    "# Exercise 59\n",
    "```\n",
    "\n",
    "---"
   ]
  },
  {
   "cell_type": "code",
   "execution_count": 99,
   "id": "bcadf6a3",
   "metadata": {},
   "outputs": [],
   "source": [
    "def first_elements(tuples_list):\n",
    "    return [t[0] for t in tuples_list]"
   ]
  },
  {
   "cell_type": "markdown",
   "id": "0448ba6a",
   "metadata": {
    "id": "bea983a3"
   },
   "source": [
    "### Exercise 60:\n",
    "Write a Python program that removes duplicates from a list without changing the order of elements.\n",
    "\n",
    "```python\n",
    "# Exercise 60\n",
    "```\n",
    "\n",
    "---"
   ]
  },
  {
   "cell_type": "code",
   "execution_count": 101,
   "id": "f29c4421",
   "metadata": {},
   "outputs": [
    {
     "data": {
      "text/plain": [
       "[1, 2, 3, 4, 5]"
      ]
     },
     "execution_count": 101,
     "metadata": {},
     "output_type": "execute_result"
    }
   ],
   "source": [
    "my_list = [1, 2, 2, 3, 4, 4, 5]  # Example\n",
    "unique_list = list(dict.fromkeys(my_list))\n",
    "unique_list"
   ]
  },
  {
   "cell_type": "markdown",
   "id": "05dfd66b",
   "metadata": {
    "id": "bea983a3"
   },
   "source": [
    "### Exercise 61:\n",
    "Use the `map()` function to convert a list of strings to a list of their lengths.\n",
    "\n",
    "```python\n",
    "# Exercise 61\n",
    "```\n",
    "\n",
    "---"
   ]
  },
  {
   "cell_type": "code",
   "execution_count": 103,
   "id": "d5bc9bf0",
   "metadata": {},
   "outputs": [
    {
     "data": {
      "text/plain": [
       "[5, 6, 6]"
      ]
     },
     "execution_count": 103,
     "metadata": {},
     "output_type": "execute_result"
    }
   ],
   "source": [
    "strings = [\"apple\", \"banana\", \"cherry\"]  # Example\n",
    "lengths = list(map(len, strings))\n",
    "lengths"
   ]
  },
  {
   "cell_type": "markdown",
   "id": "643a96e7",
   "metadata": {
    "id": "bea983a3"
   },
   "source": [
    "### Exercise 62:\n",
    "Write a Python program that calculates the average of a list of numbers.\n",
    "\n",
    "```python\n",
    "# Exercise 62\n",
    "```\n",
    "\n",
    "---"
   ]
  },
  {
   "cell_type": "code",
   "execution_count": 105,
   "id": "3123e716",
   "metadata": {},
   "outputs": [
    {
     "data": {
      "text/plain": [
       "3.0"
      ]
     },
     "execution_count": 105,
     "metadata": {},
     "output_type": "execute_result"
    }
   ],
   "source": [
    "numbers = [1, 2, 3, 4, 5]  # Example\n",
    "average = sum(numbers) / len(numbers)\n",
    "average"
   ]
  },
  {
   "cell_type": "markdown",
   "id": "ff2ba0f9",
   "metadata": {
    "id": "bea983a3"
   },
   "source": [
    "### Exercise 63:\n",
    "Write a Python function that generates a list of the first `n` Fibonacci numbers.\n",
    "\n",
    "```python\n",
    "# Exercise 63\n",
    "```\n",
    "\n",
    "---"
   ]
  },
  {
   "cell_type": "code",
   "execution_count": 106,
   "id": "911c0a0f",
   "metadata": {},
   "outputs": [],
   "source": [
    "def fibonacci_list(n):\n",
    "    if n == 0:\n",
    "        return []\n",
    "    fib = [0, 1]\n",
    "    for i in range(2, n):\n",
    "        fib.append(fib[-1] + fib[-2])\n",
    "    return fib[:n]"
   ]
  },
  {
   "cell_type": "markdown",
   "id": "2d140215",
   "metadata": {
    "id": "bea983a3"
   },
   "source": [
    "### Exercise 64:\n",
    "Write a Python program that counts how many times each element appears in the list `[\"apple\", \"banana\", \"apple\", \"cherry\"]`.\n",
    "\n",
    "```python\n",
    "# Exercise 64\n",
    "```\n",
    "\n",
    "---"
   ]
  },
  {
   "cell_type": "code",
   "execution_count": 107,
   "id": "569a547c",
   "metadata": {},
   "outputs": [
    {
     "data": {
      "text/plain": [
       "[1, 3, 4]"
      ]
     },
     "execution_count": 107,
     "metadata": {},
     "output_type": "execute_result"
    }
   ],
   "source": [
    "my_list = [1, 2, 3, 2, 4]  \n",
    "value = 2\n",
    "cleaned = [x for x in my_list if x != value]\n",
    "cleaned"
   ]
  },
  {
   "cell_type": "markdown",
   "id": "0de5d011",
   "metadata": {
    "id": "bea983a3"
   },
   "source": [
    "### Exercise 65:\n",
    "Write a Python program that removes all occurrences of a specific value from a list.\n",
    "\n",
    "```python\n",
    "# Exercise 65\n",
    "```\n",
    "\n",
    "---"
   ]
  },
  {
   "cell_type": "code",
   "execution_count": 109,
   "id": "51da4b6c",
   "metadata": {},
   "outputs": [
    {
     "data": {
      "text/plain": [
       "[1, 3, 4]"
      ]
     },
     "execution_count": 109,
     "metadata": {},
     "output_type": "execute_result"
    }
   ],
   "source": [
    "my_list = [1, 2, 3, 2, 4]  # Example, remove 2\n",
    "value = 2\n",
    "cleaned = [x for x in my_list if x != value]\n",
    "cleaned"
   ]
  },
  {
   "cell_type": "markdown",
   "id": "6b94a656",
   "metadata": {
    "id": "bea983a3"
   },
   "source": [
    "### Exercise 66:\n",
    "Write a Python function that takes a list of strings and returns a list of the strings that start with a vowel.\n",
    "\n",
    "```python\n",
    "# Exercise 66\n",
    "```\n",
    "\n",
    "---"
   ]
  },
  {
   "cell_type": "code",
   "execution_count": 110,
   "id": "9b6eb057",
   "metadata": {},
   "outputs": [],
   "source": [
    "def starts_with_vowel(strings):\n",
    "    vowels = \"aeiouAEIOU\"\n",
    "    return [s for s in strings if s and s[0] in vowels]"
   ]
  },
  {
   "cell_type": "markdown",
   "id": "9050de28",
   "metadata": {
    "id": "bea983a3"
   },
   "source": [
    "### Exercise 67:\n",
    "Write a Python program that finds the intersection of two sets `set1` and `set2`.\n",
    "\n",
    "```python\n",
    "# Exercise 67\n",
    "```\n",
    "\n",
    "---"
   ]
  },
  {
   "cell_type": "code",
   "execution_count": 114,
   "id": "06b35e1e",
   "metadata": {},
   "outputs": [
    {
     "data": {
      "text/plain": [
       "{2, 3}"
      ]
     },
     "execution_count": 114,
     "metadata": {},
     "output_type": "execute_result"
    }
   ],
   "source": [
    "set1 = {1, 2, 3} \n",
    "set2 = {2, 3, 4}\n",
    "set1 & set2"
   ]
  },
  {
   "cell_type": "markdown",
   "id": "7695e155",
   "metadata": {
    "id": "bea983a3"
   },
   "source": [
    "### Exercise 68:\n",
    "Write a Python function that flattens a nested list.\n",
    "\n",
    "```python\n",
    "# Exercise 68\n",
    "```\n",
    "\n",
    "---"
   ]
  },
  {
   "cell_type": "code",
   "execution_count": 115,
   "id": "ab79d574",
   "metadata": {},
   "outputs": [],
   "source": [
    "def flatten_nested(nested):\n",
    "    if not nested:\n",
    "        return []\n",
    "    if isinstance(nested[0], list):\n",
    "        return flatten_nested(nested[0]) + flatten_nested(nested[1:])\n",
    "    return [nested[0]] + flatten_nested(nested[1:])"
   ]
  },
  {
   "cell_type": "markdown",
   "id": "a0c3732c",
   "metadata": {
    "id": "bea983a3"
   },
   "source": [
    "### Exercise 69:\n",
    "Write a Python program that checks if all the elements in a list are unique.\n",
    "\n",
    "```python\n",
    "# Exercise 69\n",
    "```\n",
    "\n",
    "---"
   ]
  },
  {
   "cell_type": "code",
   "execution_count": 117,
   "id": "9c0b69e5",
   "metadata": {},
   "outputs": [
    {
     "data": {
      "text/plain": [
       "True"
      ]
     },
     "execution_count": 117,
     "metadata": {},
     "output_type": "execute_result"
    }
   ],
   "source": [
    "my_list = [1, 2, 3, 4, 5]  # Example\n",
    "all_unique = len(set(my_list)) == len(my_list)\n",
    "all_unique"
   ]
  },
  {
   "cell_type": "markdown",
   "id": "cc25cd8c",
   "metadata": {
    "id": "bea983a3"
   },
   "source": [
    "### Exercise 70:\n",
    "Use the `reduce()` function from the `functools` module to multiply all elements in a list.\n",
    "\n",
    "```python\n",
    "# Exercise 70\n",
    "```\n",
    "\n",
    "---"
   ]
  },
  {
   "cell_type": "code",
   "execution_count": 118,
   "id": "0d42976e",
   "metadata": {
    "id": "bea983a3"
   },
   "outputs": [
    {
     "data": {
      "text/plain": [
       "24"
      ]
     },
     "execution_count": 118,
     "metadata": {},
     "output_type": "execute_result"
    }
   ],
   "source": [
    "from functools import reduce\n",
    "my_list = [1, 2, 3, 4]  # Example\n",
    "product = reduce(lambda x, y: x * y, my_list)\n",
    "product"
   ]
  },
  {
   "cell_type": "markdown",
   "id": "845dcf26",
   "metadata": {
    "id": "bea983a3"
   },
   "source": [
    "### Exercise 71:\n",
    "Write a Python function that takes a list of strings and returns a dictionary where keys are strings and values are their lengths.\n",
    "\n",
    "```python\n",
    "# Exercise 71\n",
    "```\n",
    "\n",
    "---"
   ]
  },
  {
   "cell_type": "code",
   "execution_count": 119,
   "id": "5ab5ea2b",
   "metadata": {},
   "outputs": [],
   "source": [
    "def strings_to_lengths(strings):\n",
    "    return {s: len(s) for s in strings}"
   ]
  },
  {
   "cell_type": "markdown",
   "id": "c2cc5c25",
   "metadata": {
    "id": "bea983a3"
   },
   "source": [
    "### Exercise 72:\n",
    "Write a Python program that counts the number of vowels in a string.\n",
    "\n",
    "```python\n",
    "# Exercise 72\n",
    "```\n",
    "\n",
    "---"
   ]
  },
  {
   "cell_type": "code",
   "execution_count": 120,
   "id": "a6c6a227",
   "metadata": {},
   "outputs": [
    {
     "data": {
      "text/plain": [
       "2"
      ]
     },
     "execution_count": 120,
     "metadata": {},
     "output_type": "execute_result"
    }
   ],
   "source": [
    "s = \"hello\"  # Example\n",
    "vowel_count = sum(1 for c in s if c.lower() in \"aeiou\")\n",
    "vowel_count"
   ]
  },
  {
   "cell_type": "markdown",
   "id": "19d218b5",
   "metadata": {
    "id": "bea983a3"
   },
   "source": [
    "### Exercise 73:\n",
    "Create a list of tuples where each tuple contains a number from 1 to 5 and its factorial.\n",
    "\n",
    "```python\n",
    "# Exercise 73\n",
    "```\n",
    "\n",
    "---"
   ]
  },
  {
   "cell_type": "code",
   "execution_count": 121,
   "id": "4a1f7941",
   "metadata": {},
   "outputs": [
    {
     "data": {
      "text/plain": [
       "[(1, 1), (2, 2), (3, 6), (4, 24), (5, 120)]"
      ]
     },
     "execution_count": 121,
     "metadata": {},
     "output_type": "execute_result"
    }
   ],
   "source": [
    "def factorial(n):\n",
    "    if n == 0:\n",
    "        return 1\n",
    "    return n * factorial(n - 1)\n",
    "\n",
    "num_factorials = [(x, factorial(x)) for x in range(1, 6)]\n",
    "num_factorials"
   ]
  },
  {
   "cell_type": "markdown",
   "id": "2991a36d",
   "metadata": {
    "id": "bea983a3"
   },
   "source": [
    "### Exercise 74:\n",
    "Write a Python program that converts a list of dictionaries into a single dictionary by merging them.\n",
    "\n",
    "```python\n",
    "# Exercise 74\n",
    "```\n",
    "\n",
    "---"
   ]
  },
  {
   "cell_type": "code",
   "execution_count": 124,
   "id": "26714c81",
   "metadata": {},
   "outputs": [
    {
     "data": {
      "text/plain": [
       "{'a': 1, 'b': 2}"
      ]
     },
     "execution_count": 124,
     "metadata": {},
     "output_type": "execute_result"
    }
   ],
   "source": [
    "list_of_dicts = [{\"a\": 1}, {\"b\": 2}]  # Example\n",
    "merged = {}\n",
    "for d in list_of_dicts:\n",
    "    merged.update(d)\n",
    "merged"
   ]
  },
  {
   "cell_type": "markdown",
   "id": "a850fdb2",
   "metadata": {
    "id": "bea983a3"
   },
   "source": [
    "### Exercise 75:\n",
    "Write a Python function that checks if a set is a subset of another set.\n",
    "\n",
    "```python\n",
    "# Exercise 75\n",
    "```\n",
    "\n",
    "---"
   ]
  },
  {
   "cell_type": "code",
   "execution_count": 125,
   "id": "798cc541",
   "metadata": {},
   "outputs": [],
   "source": [
    "def is_subset(set1, set2):\n",
    "    return set1.issubset(set2)"
   ]
  },
  {
   "cell_type": "markdown",
   "id": "e69910a7",
   "metadata": {
    "id": "bea983a3"
   },
   "source": [
    "### Exercise 76:\n",
    "Write a Python program that sorts a list of tuples based on the second element in each tuple.\n",
    "\n",
    "```python\n",
    "# Exercise 76\n",
    "```\n",
    "\n",
    "---"
   ]
  },
  {
   "cell_type": "code",
   "execution_count": 126,
   "id": "29eb6789",
   "metadata": {},
   "outputs": [
    {
     "data": {
      "text/plain": [
       "[(3, 2), (2, 3), (1, 4)]"
      ]
     },
     "execution_count": 126,
     "metadata": {},
     "output_type": "execute_result"
    }
   ],
   "source": [
    "tuples_list = [(1, 4), (2, 3), (3, 2)]  # Example\n",
    "sorted_tuples = sorted(tuples_list, key=lambda t: t[1])\n"
   ]
  },
  {
   "cell_type": "markdown",
   "id": "bb20f7ff",
   "metadata": {
    "id": "bea983a3"
   },
   "source": [
    "### Exercise 77:\n",
    "Write a Python function that takes a list of integers and returns a new list with only the positive integers.\n",
    "\n",
    "```python\n",
    "# Exercise 77\n",
    "```\n",
    "\n",
    "---"
   ]
  },
  {
   "cell_type": "code",
   "execution_count": 127,
   "id": "420b12f8",
   "metadata": {},
   "outputs": [],
   "source": [
    "def positive_integers(numbers):\n",
    "    return [x for x in numbers if x > 0]"
   ]
  },
  {
   "cell_type": "markdown",
   "id": "07489c89",
   "metadata": {
    "id": "bea983a3"
   },
   "source": [
    "### Exercise 78:\n",
    "Write a Python function that takes two sets and returns their union.\n",
    "\n",
    "```python\n",
    "# Exercise 78\n",
    "```\n",
    "\n",
    "---"
   ]
  },
  {
   "cell_type": "code",
   "execution_count": 128,
   "id": "dbebeefb",
   "metadata": {},
   "outputs": [],
   "source": [
    "def set_union(set1, set2):\n",
    "    return set1 | set2"
   ]
  },
  {
   "cell_type": "markdown",
   "id": "9ca544ba",
   "metadata": {
    "id": "bea983a3"
   },
   "source": [
    "### Exercise 79:\n",
    "Write a Python function that takes a list of numbers and returns the product of all the numbers.\n",
    "\n",
    "```python\n",
    "# Exercise 79\n",
    "```\n",
    "\n",
    "---"
   ]
  },
  {
   "cell_type": "code",
   "execution_count": 129,
   "id": "10219bba",
   "metadata": {},
   "outputs": [],
   "source": [
    "from functools import reduce\n",
    "def product_numbers(numbers):\n",
    "    return reduce(lambda x, y: x * y, numbers, 1)"
   ]
  },
  {
   "cell_type": "markdown",
   "id": "ac2201ec",
   "metadata": {
    "id": "bea983a3"
   },
   "source": [
    "### Exercise 80:\n",
    "Write a Python program that converts a list of characters into a string.\n",
    "\n",
    "```python\n",
    "# Exercise 80\n",
    "```\n",
    "\n",
    "---"
   ]
  },
  {
   "cell_type": "code",
   "execution_count": 131,
   "id": "0defe68a",
   "metadata": {},
   "outputs": [
    {
     "data": {
      "text/plain": [
       "'hello'"
      ]
     },
     "execution_count": 131,
     "metadata": {},
     "output_type": "execute_result"
    }
   ],
   "source": [
    "chars = ['h', 'e', 'l', 'l', 'o']  # Example\n",
    "s = ''.join(chars)\n",
    "s"
   ]
  },
  {
   "cell_type": "markdown",
   "id": "23a27dfd",
   "metadata": {
    "id": "bea983a3"
   },
   "source": [
    "### Exercise 81:\n",
    "Write a Python program that finds the second largest number in a list of integers.\n",
    "\n",
    "```python\n",
    "# Exercise 81\n",
    "```\n",
    "\n",
    "---"
   ]
  },
  {
   "cell_type": "code",
   "execution_count": 132,
   "id": "e3b24154",
   "metadata": {},
   "outputs": [
    {
     "data": {
      "text/plain": [
       "8"
      ]
     },
     "execution_count": 132,
     "metadata": {},
     "output_type": "execute_result"
    }
   ],
   "source": [
    "numbers = [5, 3, 8, 1, 9]  # Example\n",
    "second_largest = sorted(set(numbers))[-2]\n",
    "second_largest"
   ]
  },
  {
   "cell_type": "markdown",
   "id": "2e9fec0b",
   "metadata": {
    "id": "bea983a3"
   },
   "source": [
    "### Exercise 82:\n",
    "Write a Python function that takes a dictionary and returns a list of its keys in sorted order.\n",
    "\n",
    "```python\n",
    "# Exercise 82\n",
    "```\n",
    "\n",
    "---"
   ]
  },
  {
   "cell_type": "code",
   "execution_count": 133,
   "id": "e08954ed",
   "metadata": {},
   "outputs": [],
   "source": [
    "def sorted_keys(my_dict):\n",
    "    return sorted(my_dict.keys())"
   ]
  },
  {
   "cell_type": "markdown",
   "id": "10c8f54a",
   "metadata": {
    "id": "bea983a3"
   },
   "source": [
    "### Exercise 83:\n",
    "Write a Python program that finds the most common element in a list.\n",
    "\n",
    "```python\n",
    "# Exercise 83\n",
    "```\n",
    "\n",
    "---"
   ]
  },
  {
   "cell_type": "code",
   "execution_count": 134,
   "id": "bc0c0ac6",
   "metadata": {},
   "outputs": [
    {
     "data": {
      "text/plain": [
       "2"
      ]
     },
     "execution_count": 134,
     "metadata": {},
     "output_type": "execute_result"
    }
   ],
   "source": [
    "from collections import Counter\n",
    "my_list = [1, 2, 2, 3]  # Example\n",
    "most_common = Counter(my_list).most_common(1)[0][0]\n",
    "most_common"
   ]
  },
  {
   "cell_type": "markdown",
   "id": "a359bcf0",
   "metadata": {
    "id": "bea983a3"
   },
   "source": [
    "### Exercise 84:\n",
    "Write a Python function that takes a list of tuples and returns a list of the tuples sorted by the first element.\n",
    "\n",
    "```python\n",
    "# Exercise 84\n",
    "```\n",
    "\n",
    "---"
   ]
  },
  {
   "cell_type": "code",
   "execution_count": 135,
   "id": "8b10a1ab",
   "metadata": {},
   "outputs": [],
   "source": [
    "def sort_by_first(tuples_list):\n",
    "    return sorted(tuples_list, key=lambda t: t[0])"
   ]
  },
  {
   "cell_type": "markdown",
   "id": "b4a66e7b",
   "metadata": {
    "id": "bea983a3"
   },
   "source": [
    "### Exercise 85:\n",
    "Write a Python program that removes duplicates from a list of dictionaries.\n",
    "\n",
    "```python\n",
    "# Exercise 85\n",
    "```\n",
    "\n",
    "---"
   ]
  },
  {
   "cell_type": "code",
   "execution_count": 136,
   "id": "424e35b8",
   "metadata": {},
   "outputs": [],
   "source": [
    "list_of_dicts = [{\"a\": 1}, {\"a\": 1}, {\"b\": 2}]  # Example\n",
    "unique_dicts = []\n",
    "seen = set()\n",
    "for d in list_of_dicts:\n",
    "    t = tuple(sorted(d.items()))\n",
    "    if t not in seen:\n",
    "        seen.add(t)\n",
    "        unique_dicts.append(d)"
   ]
  },
  {
   "cell_type": "markdown",
   "id": "0d57e29d",
   "metadata": {
    "id": "bea983a3"
   },
   "source": [
    "### Exercise 86:\n",
    "Write a Python function that takes a list of numbers and returns the minimum and maximum numbers in the list.\n",
    "\n",
    "```python\n",
    "# Exercise 86\n",
    "```\n",
    "\n",
    "---"
   ]
  },
  {
   "cell_type": "code",
   "execution_count": 137,
   "id": "c730b979",
   "metadata": {},
   "outputs": [],
   "source": [
    "def min_max(numbers):\n",
    "    return min(numbers), max(numbers)"
   ]
  },
  {
   "cell_type": "markdown",
   "id": "dbc8f64b",
   "metadata": {
    "id": "bea983a3"
   },
   "source": [
    "### Exercise 87:\n",
    "Write a Python program that creates a list of tuples from two lists.\n",
    "\n",
    "```python\n",
    "# Exercise 87\n",
    "```\n",
    "\n",
    "---"
   ]
  },
  {
   "cell_type": "code",
   "execution_count": 139,
   "id": "3bb8e967",
   "metadata": {},
   "outputs": [
    {
     "data": {
      "text/plain": [
       "[(1, 'a'), (2, 'b'), (3, 'c')]"
      ]
     },
     "execution_count": 139,
     "metadata": {},
     "output_type": "execute_result"
    }
   ],
   "source": [
    "list1 = [1, 2, 3]  # Example\n",
    "list2 = ['a', 'b', 'c']\n",
    "tuples_list = list(zip(list1, list2))\n",
    "tuples_list"
   ]
  },
  {
   "cell_type": "markdown",
   "id": "6daac1f1",
   "metadata": {
    "id": "bea983a3"
   },
   "source": [
    "### Exercise 88:\n",
    "Write a Python function that takes a list of strings and returns a list of the strings in reverse order.\n",
    "\n",
    "```python\n",
    "# Exercise 88\n",
    "```\n",
    "\n",
    "---"
   ]
  },
  {
   "cell_type": "code",
   "execution_count": 140,
   "id": "ae92bf89",
   "metadata": {},
   "outputs": [],
   "source": [
    "def reverse_strings(strings):\n",
    "    return [s[::-1] for s in strings]"
   ]
  },
  {
   "cell_type": "markdown",
   "id": "7029f399",
   "metadata": {
    "id": "bea983a3"
   },
   "source": [
    "### Exercise 89:\n",
    "Write a Python function that takes a list of integers and returns the sum of all odd numbers.\n",
    "\n",
    "```python\n",
    "# Exercise 89\n",
    "```\n",
    "\n",
    "---"
   ]
  },
  {
   "cell_type": "code",
   "execution_count": 141,
   "id": "6c35089b",
   "metadata": {},
   "outputs": [],
   "source": [
    "def sum_odd(numbers):\n",
    "    return sum(x for x in numbers if x % 2 == 1)"
   ]
  },
  {
   "cell_type": "markdown",
   "id": "3c8bc669",
   "metadata": {
    "id": "bea983a3"
   },
   "source": [
    "### Exercise 90:\n",
    "Write a Python program that checks if a string is a palindrome.\n",
    "\n",
    "```python\n",
    "# Exercise 90\n",
    "```\n",
    "\n",
    "---"
   ]
  },
  {
   "cell_type": "code",
   "execution_count": 144,
   "id": "959bab9a",
   "metadata": {},
   "outputs": [
    {
     "data": {
      "text/plain": [
       "True"
      ]
     },
     "execution_count": 144,
     "metadata": {},
     "output_type": "execute_result"
    }
   ],
   "source": [
    "s = \"radar\"  # Example\n",
    "is_palindrome = s == s[::-1]\n",
    "is_palindrome "
   ]
  },
  {
   "cell_type": "markdown",
   "id": "a71f7712",
   "metadata": {
    "id": "bea983a3"
   },
   "source": [
    "### Exercise 91:\n",
    "Write a Python program that finds the median of a list of numbers.\n",
    "\n",
    "```python\n",
    "# Exercise 91\n",
    "```\n",
    "\n",
    "---"
   ]
  },
  {
   "cell_type": "code",
   "execution_count": 154,
   "id": "057f61eb",
   "metadata": {},
   "outputs": [],
   "source": [
    "numbers = [1, 2, 3, 4, 5]  # Example\n",
    "sorted_numbers = sorted(numbers)\n",
    "n = len(sorted_numbers)\n",
    "if n % 2 == 1:\n",
    "    median = sorted_numbers[n // 2]\n",
    "else:\n",
    "    median = (sorted_numbers[n // 2 - 1] + sorted_numbers[n // 2]) / 2\n",
    "    \n"
   ]
  },
  {
   "cell_type": "markdown",
   "id": "f37a2b5a",
   "metadata": {
    "id": "bea983a3"
   },
   "source": [
    "### Exercise 92:\n",
    "Write a Python function that takes a list of dictionaries and returns a dictionary with the total value for each key.\n",
    "\n",
    "```python\n",
    "# Exercise 92\n",
    "```\n",
    "\n",
    "---"
   ]
  },
  {
   "cell_type": "code",
   "execution_count": 157,
   "id": "f826f752",
   "metadata": {},
   "outputs": [
    {
     "data": {
      "text/plain": [
       "{'a': 4, 'b': 2, 'c': 4}"
      ]
     },
     "execution_count": 157,
     "metadata": {},
     "output_type": "execute_result"
    }
   ],
   "source": [
    "from collections import defaultdict\n",
    "list_of_dicts = [{\"a\": 1, \"b\": 2}, {\"a\": 3, \"c\": 4}]  # Example\n",
    "totals = defaultdict(int)\n",
    "for d in list_of_dicts:\n",
    "    for k, v in d.items():\n",
    "        totals[k] += v\n",
    "totals = dict(totals)\n",
    "totals"
   ]
  },
  {
   "cell_type": "markdown",
   "id": "a370423c",
   "metadata": {
    "id": "bea983a3"
   },
   "source": [
    "### Exercise 93:\n",
    "Write a Python program that calculates the mode of a list of numbers.\n",
    "\n",
    "```python\n",
    "# Exercise 93\n",
    "```\n",
    "\n",
    "---"
   ]
  },
  {
   "cell_type": "code",
   "execution_count": 159,
   "id": "829d018d",
   "metadata": {},
   "outputs": [
    {
     "data": {
      "text/plain": [
       "2"
      ]
     },
     "execution_count": 159,
     "metadata": {},
     "output_type": "execute_result"
    }
   ],
   "source": [
    "from collections import Counter\n",
    "numbers = [1, 2, 2, 3]  # Example\n",
    "mode = Counter(numbers).most_common(1)[0][0]\n",
    "mode"
   ]
  },
  {
   "cell_type": "markdown",
   "id": "06a7efe0",
   "metadata": {
    "id": "bea983a3"
   },
   "source": [
    "### Exercise 94:\n",
    "Write a Python function that takes a list of numbers and returns the sum of the squares of all the numbers.\n",
    "\n",
    "```python\n",
    "# Exercise 94\n",
    "```\n",
    "\n",
    "---"
   ]
  },
  {
   "cell_type": "code",
   "execution_count": 160,
   "id": "57640542",
   "metadata": {},
   "outputs": [],
   "source": [
    "def sum_squares(numbers):\n",
    "    return sum(x ** 2 for x in numbers)"
   ]
  },
  {
   "cell_type": "markdown",
   "id": "e4e6b812",
   "metadata": {
    "id": "bea983a3"
   },
   "source": [
    "### Exercise 95:\n",
    "Write a Python program that creates a list of tuples, where each tuple contains a number and its cube for numbers from 1 to 5.\n",
    "\n",
    "```python\n",
    "# Exercise 95\n",
    "```\n",
    "\n",
    "---"
   ]
  },
  {
   "cell_type": "code",
   "execution_count": 162,
   "id": "0258830b",
   "metadata": {},
   "outputs": [
    {
     "data": {
      "text/plain": [
       "[(1, 1), (2, 8), (3, 27), (4, 64), (5, 125)]"
      ]
     },
     "execution_count": 162,
     "metadata": {},
     "output_type": "execute_result"
    }
   ],
   "source": [
    "num_cubes = [(x, x ** 3) for x in range(1, 6)]\n",
    "num_cubes"
   ]
  },
  {
   "cell_type": "markdown",
   "id": "1561822e",
   "metadata": {
    "id": "bea983a3"
   },
   "source": [
    "### Exercise 96:\n",
    "Write a Python function that returns a list of all prime numbers up to `n`.\n",
    "\n",
    "```python\n",
    "# Exercise 96\n",
    "```\n",
    "\n",
    "---"
   ]
  },
  {
   "cell_type": "code",
   "execution_count": 163,
   "id": "eb2a5c47",
   "metadata": {},
   "outputs": [],
   "source": [
    "def primes_up_to(n):\n",
    "    if n < 2:\n",
    "        return []\n",
    "    sieve = [True] * (n + 1)\n",
    "    sieve[0] = sieve[1] = False\n",
    "    for i in range(2, int(n ** 0.5) + 1):\n",
    "        if sieve[i]:\n",
    "            for j in range(i * i, n + 1, i):\n",
    "                sieve[j] = False\n",
    "    return [i for i, is_prime in enumerate(sieve) if is_prime]"
   ]
  },
  {
   "cell_type": "markdown",
   "id": "cefd8889",
   "metadata": {
    "id": "bea983a3"
   },
   "source": [
    "### Exercise 97:\n",
    "Write a Python program that finds the common keys between two dictionaries.\n",
    "\n",
    "```python\n",
    "# Exercise 97\n",
    "```\n",
    "\n",
    "---"
   ]
  },
  {
   "cell_type": "code",
   "execution_count": 165,
   "id": "5b19197c",
   "metadata": {},
   "outputs": [
    {
     "data": {
      "text/plain": [
       "{'b'}"
      ]
     },
     "execution_count": 165,
     "metadata": {},
     "output_type": "execute_result"
    }
   ],
   "source": [
    "dict1 = {\"a\": 1, \"b\": 2}  # Example\n",
    "dict2 = {\"b\": 3, \"c\": 4}\n",
    "common_keys = set(dict1.keys()) & set(dict2.keys())\n",
    "common_keys"
   ]
  },
  {
   "cell_type": "markdown",
   "id": "c6f92eff",
   "metadata": {
    "id": "bea983a3"
   },
   "source": [
    "### Exercise 98:\n",
    "Write a Python function that takes a list of strings and returns a list of the strings that contain more than 5 characters.\n",
    "\n",
    "```python\n",
    "# Exercise 98\n",
    "```\n",
    "\n",
    "---"
   ]
  },
  {
   "cell_type": "code",
   "execution_count": 166,
   "id": "027ea924",
   "metadata": {},
   "outputs": [],
   "source": [
    "def long_strings(strings):\n",
    "    return [s for s in strings if len(s) > 5]"
   ]
  },
  {
   "cell_type": "markdown",
   "id": "572391ef",
   "metadata": {
    "id": "bea983a3"
   },
   "source": [
    "### Exercise 99:\n",
    "Write a Python program that converts a list of strings into a list of tuples, where each tuple contains the string and its length.\n",
    "\n",
    "```python\n",
    "# Exercise 99\n",
    "```\n",
    "\n",
    "---"
   ]
  },
  {
   "cell_type": "code",
   "execution_count": 167,
   "id": "e11b5bf0",
   "metadata": {},
   "outputs": [
    {
     "data": {
      "text/plain": [
       "[('apple', 5), ('banana', 6), ('cherry', 6)]"
      ]
     },
     "execution_count": 167,
     "metadata": {},
     "output_type": "execute_result"
    }
   ],
   "source": [
    "strings = [\"apple\", \"banana\", \"cherry\"]  # Example\n",
    "string_lengths = [(s, len(s)) for s in strings]\n",
    "string_lengths"
   ]
  },
  {
   "cell_type": "markdown",
   "id": "bea983a3",
   "metadata": {
    "id": "bea983a3"
   },
   "source": [
    "### Exercise 100:\n",
    "Write a Python function that takes a list of dictionaries and returns a new dictionary by summing the values of each key across all dictionaries.\n",
    "\n",
    "```python\n",
    "# Exercise 100\n",
    "```\n",
    "\n",
    "---"
   ]
  },
  {
   "cell_type": "code",
   "execution_count": 168,
   "id": "8bdedb4f",
   "metadata": {},
   "outputs": [
    {
     "data": {
      "text/plain": [
       "{'a': 4, 'b': 6}"
      ]
     },
     "execution_count": 168,
     "metadata": {},
     "output_type": "execute_result"
    }
   ],
   "source": [
    "from collections import defaultdict\n",
    "list_of_dicts = [{\"a\": 1, \"b\": 2}, {\"a\": 3, \"b\": 4}]  # Example\n",
    "sums = defaultdict(int)\n",
    "for d in list_of_dicts:\n",
    "    for k, v in d.items():\n",
    "        sums[k] += v\n",
    "sums = dict(sums)\n",
    "sums"
   ]
  }
 ],
 "metadata": {
  "colab": {
   "provenance": []
  },
  "kernelspec": {
   "display_name": "Python 3 (ipykernel)",
   "language": "python",
   "name": "python3"
  },
  "language_info": {
   "codemirror_mode": {
    "name": "ipython",
    "version": 3
   },
   "file_extension": ".py",
   "mimetype": "text/x-python",
   "name": "python",
   "nbconvert_exporter": "python",
   "pygments_lexer": "ipython3",
   "version": "3.10.12"
  }
 },
 "nbformat": 4,
 "nbformat_minor": 5
}
